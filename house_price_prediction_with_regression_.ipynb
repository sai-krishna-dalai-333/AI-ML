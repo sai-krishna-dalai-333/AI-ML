{
  "cells": [
    {
      "cell_type": "markdown",
      "metadata": {
        "id": "view-in-github",
        "colab_type": "text"
      },
      "source": [
        "<a href=\"https://colab.research.google.com/github/sai-krishna-dalai-333/AI-ML/blob/main/house_price_prediction_with_regression_.ipynb\" target=\"_parent\"><img src=\"https://colab.research.google.com/assets/colab-badge.svg\" alt=\"Open In Colab\"/></a>"
      ]
    },
    {
      "cell_type": "code",
      "execution_count": null,
      "id": "379b7a28",
      "metadata": {
        "_cell_guid": "b1076dfc-b9ad-4769-8c92-a6c4dae69d19",
        "_uuid": "8f2839f25d086af736a60e9eeb907d3b93b6e0e5",
        "execution": {
          "iopub.execute_input": "2022-03-20T07:05:29.315762Z",
          "iopub.status.busy": "2022-03-20T07:05:29.314465Z",
          "iopub.status.idle": "2022-03-20T07:05:29.327350Z",
          "shell.execute_reply": "2022-03-20T07:05:29.328040Z",
          "shell.execute_reply.started": "2022-03-20T06:31:01.164446Z"
        },
        "papermill": {
          "duration": 0.076323,
          "end_time": "2022-03-20T07:05:29.328825",
          "exception": false,
          "start_time": "2022-03-20T07:05:29.252502",
          "status": "completed"
        },
        "tags": [],
        "id": "379b7a28"
      },
      "outputs": [],
      "source": [
        "# This Python 3 environment comes with many helpful analytics libraries installed\n",
        "# It is defined by the kaggle/python Docker image: https://github.com/kaggle/docker-python\n",
        "# For example, here's several helpful packages to load\n",
        "\n",
        "import numpy as np # linear algebra\n",
        "import pandas as pd # data processing, CSV file I/O (e.g. pd.read_csv)\n",
        "\n",
        "# Input data files are available in the read-only \"../input/\" directory\n",
        "# For example, running this (by clicking run or pressing Shift+Enter) will list all files under the input directory\n",
        "\n",
        "import os\n",
        "for dirname, _, filenames in os.walk('/kaggle/input'):\n",
        "    for filename in filenames:\n",
        "        print(os.path.join(dirname, filename))\n",
        "\n",
        "# You can write up to 20GB to the current directory (/kaggle/working/) that gets preserved as output when you create a version using \"Save & Run All\" \n",
        "# You can also write temporary files to /kaggle/temp/, but they won't be saved outside of the current session"
      ]
    },
    {
      "cell_type": "code",
      "execution_count": null,
      "id": "f7db92f1",
      "metadata": {
        "execution": {
          "iopub.execute_input": "2022-03-20T07:05:29.457370Z",
          "iopub.status.busy": "2022-03-20T07:05:29.456601Z",
          "iopub.status.idle": "2022-03-20T07:05:29.533673Z",
          "shell.execute_reply": "2022-03-20T07:05:29.534199Z",
          "shell.execute_reply.started": "2022-03-20T06:31:01.196741Z"
        },
        "papermill": {
          "duration": 0.144672,
          "end_time": "2022-03-20T07:05:29.534458",
          "exception": false,
          "start_time": "2022-03-20T07:05:29.389786",
          "status": "completed"
        },
        "tags": [],
        "colab": {
          "base_uri": "https://localhost:8080/"
        },
        "id": "f7db92f1",
        "outputId": "f57531cf-e849-4ad1-c42b-7b668eedb47b"
      },
      "outputs": [
        {
          "output_type": "execute_result",
          "data": {
            "text/plain": [
              "((1460, 81), (1459, 80))"
            ]
          },
          "metadata": {},
          "execution_count": 9
        }
      ],
      "source": [
        "#load the entire dataset split to test and train\n",
        "train = pd.read_csv('/train.csv')\n",
        "test = pd.read_csv('/test.csv')\n",
        "\n",
        "train.shape, test.shape"
      ]
    },
    {
      "cell_type": "markdown",
      "id": "4b580b67",
      "metadata": {
        "papermill": {
          "duration": 0.064122,
          "end_time": "2022-03-20T07:05:29.662840",
          "exception": false,
          "start_time": "2022-03-20T07:05:29.598718",
          "status": "completed"
        },
        "tags": [],
        "id": "4b580b67"
      },
      "source": [
        "# **Preparing the Data**"
      ]
    },
    {
      "cell_type": "markdown",
      "id": "3b3bc5c0",
      "metadata": {
        "papermill": {
          "duration": 0.059895,
          "end_time": "2022-03-20T07:05:29.785088",
          "exception": false,
          "start_time": "2022-03-20T07:05:29.725193",
          "status": "completed"
        },
        "tags": [],
        "id": "3b3bc5c0"
      },
      "source": [
        "here i'm analyszing the entire data and finding the number of null values in the datset"
      ]
    },
    {
      "cell_type": "code",
      "execution_count": null,
      "id": "41dabff5",
      "metadata": {
        "execution": {
          "iopub.execute_input": "2022-03-20T07:05:29.926764Z",
          "iopub.status.busy": "2022-03-20T07:05:29.912143Z",
          "iopub.status.idle": "2022-03-20T07:05:29.969840Z",
          "shell.execute_reply": "2022-03-20T07:05:29.970358Z",
          "shell.execute_reply.started": "2022-03-20T06:31:01.293985Z"
        },
        "papermill": {
          "duration": 0.122451,
          "end_time": "2022-03-20T07:05:29.970542",
          "exception": false,
          "start_time": "2022-03-20T07:05:29.848091",
          "status": "completed"
        },
        "tags": [],
        "colab": {
          "base_uri": "https://localhost:8080/",
          "height": 299
        },
        "id": "41dabff5",
        "outputId": "ab90d848-3bed-49a6-f97b-394c7db3bc59"
      },
      "outputs": [
        {
          "output_type": "execute_result",
          "data": {
            "text/plain": [
              "   Id  MSSubClass MSZoning  LotFrontage  LotArea Street Alley LotShape  \\\n",
              "0   1          60       RL         65.0     8450   Pave   NaN      Reg   \n",
              "1   2          20       RL         80.0     9600   Pave   NaN      Reg   \n",
              "2   3          60       RL         68.0    11250   Pave   NaN      IR1   \n",
              "3   4          70       RL         60.0     9550   Pave   NaN      IR1   \n",
              "4   5          60       RL         84.0    14260   Pave   NaN      IR1   \n",
              "\n",
              "  LandContour Utilities  ... PoolArea PoolQC Fence MiscFeature MiscVal MoSold  \\\n",
              "0         Lvl    AllPub  ...        0    NaN   NaN         NaN       0      2   \n",
              "1         Lvl    AllPub  ...        0    NaN   NaN         NaN       0      5   \n",
              "2         Lvl    AllPub  ...        0    NaN   NaN         NaN       0      9   \n",
              "3         Lvl    AllPub  ...        0    NaN   NaN         NaN       0      2   \n",
              "4         Lvl    AllPub  ...        0    NaN   NaN         NaN       0     12   \n",
              "\n",
              "  YrSold  SaleType  SaleCondition  SalePrice  \n",
              "0   2008        WD         Normal   208500.0  \n",
              "1   2007        WD         Normal   181500.0  \n",
              "2   2008        WD         Normal   223500.0  \n",
              "3   2006        WD        Abnorml   140000.0  \n",
              "4   2008        WD         Normal   250000.0  \n",
              "\n",
              "[5 rows x 81 columns]"
            ],
            "text/html": [
              "\n",
              "  <div id=\"df-2db71fbd-b9d7-49ce-9a5a-1ff1e1463d78\">\n",
              "    <div class=\"colab-df-container\">\n",
              "      <div>\n",
              "<style scoped>\n",
              "    .dataframe tbody tr th:only-of-type {\n",
              "        vertical-align: middle;\n",
              "    }\n",
              "\n",
              "    .dataframe tbody tr th {\n",
              "        vertical-align: top;\n",
              "    }\n",
              "\n",
              "    .dataframe thead th {\n",
              "        text-align: right;\n",
              "    }\n",
              "</style>\n",
              "<table border=\"1\" class=\"dataframe\">\n",
              "  <thead>\n",
              "    <tr style=\"text-align: right;\">\n",
              "      <th></th>\n",
              "      <th>Id</th>\n",
              "      <th>MSSubClass</th>\n",
              "      <th>MSZoning</th>\n",
              "      <th>LotFrontage</th>\n",
              "      <th>LotArea</th>\n",
              "      <th>Street</th>\n",
              "      <th>Alley</th>\n",
              "      <th>LotShape</th>\n",
              "      <th>LandContour</th>\n",
              "      <th>Utilities</th>\n",
              "      <th>...</th>\n",
              "      <th>PoolArea</th>\n",
              "      <th>PoolQC</th>\n",
              "      <th>Fence</th>\n",
              "      <th>MiscFeature</th>\n",
              "      <th>MiscVal</th>\n",
              "      <th>MoSold</th>\n",
              "      <th>YrSold</th>\n",
              "      <th>SaleType</th>\n",
              "      <th>SaleCondition</th>\n",
              "      <th>SalePrice</th>\n",
              "    </tr>\n",
              "  </thead>\n",
              "  <tbody>\n",
              "    <tr>\n",
              "      <th>0</th>\n",
              "      <td>1</td>\n",
              "      <td>60</td>\n",
              "      <td>RL</td>\n",
              "      <td>65.0</td>\n",
              "      <td>8450</td>\n",
              "      <td>Pave</td>\n",
              "      <td>NaN</td>\n",
              "      <td>Reg</td>\n",
              "      <td>Lvl</td>\n",
              "      <td>AllPub</td>\n",
              "      <td>...</td>\n",
              "      <td>0</td>\n",
              "      <td>NaN</td>\n",
              "      <td>NaN</td>\n",
              "      <td>NaN</td>\n",
              "      <td>0</td>\n",
              "      <td>2</td>\n",
              "      <td>2008</td>\n",
              "      <td>WD</td>\n",
              "      <td>Normal</td>\n",
              "      <td>208500.0</td>\n",
              "    </tr>\n",
              "    <tr>\n",
              "      <th>1</th>\n",
              "      <td>2</td>\n",
              "      <td>20</td>\n",
              "      <td>RL</td>\n",
              "      <td>80.0</td>\n",
              "      <td>9600</td>\n",
              "      <td>Pave</td>\n",
              "      <td>NaN</td>\n",
              "      <td>Reg</td>\n",
              "      <td>Lvl</td>\n",
              "      <td>AllPub</td>\n",
              "      <td>...</td>\n",
              "      <td>0</td>\n",
              "      <td>NaN</td>\n",
              "      <td>NaN</td>\n",
              "      <td>NaN</td>\n",
              "      <td>0</td>\n",
              "      <td>5</td>\n",
              "      <td>2007</td>\n",
              "      <td>WD</td>\n",
              "      <td>Normal</td>\n",
              "      <td>181500.0</td>\n",
              "    </tr>\n",
              "    <tr>\n",
              "      <th>2</th>\n",
              "      <td>3</td>\n",
              "      <td>60</td>\n",
              "      <td>RL</td>\n",
              "      <td>68.0</td>\n",
              "      <td>11250</td>\n",
              "      <td>Pave</td>\n",
              "      <td>NaN</td>\n",
              "      <td>IR1</td>\n",
              "      <td>Lvl</td>\n",
              "      <td>AllPub</td>\n",
              "      <td>...</td>\n",
              "      <td>0</td>\n",
              "      <td>NaN</td>\n",
              "      <td>NaN</td>\n",
              "      <td>NaN</td>\n",
              "      <td>0</td>\n",
              "      <td>9</td>\n",
              "      <td>2008</td>\n",
              "      <td>WD</td>\n",
              "      <td>Normal</td>\n",
              "      <td>223500.0</td>\n",
              "    </tr>\n",
              "    <tr>\n",
              "      <th>3</th>\n",
              "      <td>4</td>\n",
              "      <td>70</td>\n",
              "      <td>RL</td>\n",
              "      <td>60.0</td>\n",
              "      <td>9550</td>\n",
              "      <td>Pave</td>\n",
              "      <td>NaN</td>\n",
              "      <td>IR1</td>\n",
              "      <td>Lvl</td>\n",
              "      <td>AllPub</td>\n",
              "      <td>...</td>\n",
              "      <td>0</td>\n",
              "      <td>NaN</td>\n",
              "      <td>NaN</td>\n",
              "      <td>NaN</td>\n",
              "      <td>0</td>\n",
              "      <td>2</td>\n",
              "      <td>2006</td>\n",
              "      <td>WD</td>\n",
              "      <td>Abnorml</td>\n",
              "      <td>140000.0</td>\n",
              "    </tr>\n",
              "    <tr>\n",
              "      <th>4</th>\n",
              "      <td>5</td>\n",
              "      <td>60</td>\n",
              "      <td>RL</td>\n",
              "      <td>84.0</td>\n",
              "      <td>14260</td>\n",
              "      <td>Pave</td>\n",
              "      <td>NaN</td>\n",
              "      <td>IR1</td>\n",
              "      <td>Lvl</td>\n",
              "      <td>AllPub</td>\n",
              "      <td>...</td>\n",
              "      <td>0</td>\n",
              "      <td>NaN</td>\n",
              "      <td>NaN</td>\n",
              "      <td>NaN</td>\n",
              "      <td>0</td>\n",
              "      <td>12</td>\n",
              "      <td>2008</td>\n",
              "      <td>WD</td>\n",
              "      <td>Normal</td>\n",
              "      <td>250000.0</td>\n",
              "    </tr>\n",
              "  </tbody>\n",
              "</table>\n",
              "<p>5 rows × 81 columns</p>\n",
              "</div>\n",
              "      <button class=\"colab-df-convert\" onclick=\"convertToInteractive('df-2db71fbd-b9d7-49ce-9a5a-1ff1e1463d78')\"\n",
              "              title=\"Convert this dataframe to an interactive table.\"\n",
              "              style=\"display:none;\">\n",
              "        \n",
              "  <svg xmlns=\"http://www.w3.org/2000/svg\" height=\"24px\"viewBox=\"0 0 24 24\"\n",
              "       width=\"24px\">\n",
              "    <path d=\"M0 0h24v24H0V0z\" fill=\"none\"/>\n",
              "    <path d=\"M18.56 5.44l.94 2.06.94-2.06 2.06-.94-2.06-.94-.94-2.06-.94 2.06-2.06.94zm-11 1L8.5 8.5l.94-2.06 2.06-.94-2.06-.94L8.5 2.5l-.94 2.06-2.06.94zm10 10l.94 2.06.94-2.06 2.06-.94-2.06-.94-.94-2.06-.94 2.06-2.06.94z\"/><path d=\"M17.41 7.96l-1.37-1.37c-.4-.4-.92-.59-1.43-.59-.52 0-1.04.2-1.43.59L10.3 9.45l-7.72 7.72c-.78.78-.78 2.05 0 2.83L4 21.41c.39.39.9.59 1.41.59.51 0 1.02-.2 1.41-.59l7.78-7.78 2.81-2.81c.8-.78.8-2.07 0-2.86zM5.41 20L4 18.59l7.72-7.72 1.47 1.35L5.41 20z\"/>\n",
              "  </svg>\n",
              "      </button>\n",
              "      \n",
              "  <style>\n",
              "    .colab-df-container {\n",
              "      display:flex;\n",
              "      flex-wrap:wrap;\n",
              "      gap: 12px;\n",
              "    }\n",
              "\n",
              "    .colab-df-convert {\n",
              "      background-color: #E8F0FE;\n",
              "      border: none;\n",
              "      border-radius: 50%;\n",
              "      cursor: pointer;\n",
              "      display: none;\n",
              "      fill: #1967D2;\n",
              "      height: 32px;\n",
              "      padding: 0 0 0 0;\n",
              "      width: 32px;\n",
              "    }\n",
              "\n",
              "    .colab-df-convert:hover {\n",
              "      background-color: #E2EBFA;\n",
              "      box-shadow: 0px 1px 2px rgba(60, 64, 67, 0.3), 0px 1px 3px 1px rgba(60, 64, 67, 0.15);\n",
              "      fill: #174EA6;\n",
              "    }\n",
              "\n",
              "    [theme=dark] .colab-df-convert {\n",
              "      background-color: #3B4455;\n",
              "      fill: #D2E3FC;\n",
              "    }\n",
              "\n",
              "    [theme=dark] .colab-df-convert:hover {\n",
              "      background-color: #434B5C;\n",
              "      box-shadow: 0px 1px 3px 1px rgba(0, 0, 0, 0.15);\n",
              "      filter: drop-shadow(0px 1px 2px rgba(0, 0, 0, 0.3));\n",
              "      fill: #FFFFFF;\n",
              "    }\n",
              "  </style>\n",
              "\n",
              "      <script>\n",
              "        const buttonEl =\n",
              "          document.querySelector('#df-2db71fbd-b9d7-49ce-9a5a-1ff1e1463d78 button.colab-df-convert');\n",
              "        buttonEl.style.display =\n",
              "          google.colab.kernel.accessAllowed ? 'block' : 'none';\n",
              "\n",
              "        async function convertToInteractive(key) {\n",
              "          const element = document.querySelector('#df-2db71fbd-b9d7-49ce-9a5a-1ff1e1463d78');\n",
              "          const dataTable =\n",
              "            await google.colab.kernel.invokeFunction('convertToInteractive',\n",
              "                                                     [key], {});\n",
              "          if (!dataTable) return;\n",
              "\n",
              "          const docLinkHtml = 'Like what you see? Visit the ' +\n",
              "            '<a target=\"_blank\" href=https://colab.research.google.com/notebooks/data_table.ipynb>data table notebook</a>'\n",
              "            + ' to learn more about interactive tables.';\n",
              "          element.innerHTML = '';\n",
              "          dataTable['output_type'] = 'display_data';\n",
              "          await google.colab.output.renderOutput(dataTable, element);\n",
              "          const docLink = document.createElement('div');\n",
              "          docLink.innerHTML = docLinkHtml;\n",
              "          element.appendChild(docLink);\n",
              "        }\n",
              "      </script>\n",
              "    </div>\n",
              "  </div>\n",
              "  "
            ]
          },
          "metadata": {},
          "execution_count": 10
        }
      ],
      "source": [
        "#concat the test and train to single dataset\n",
        "df=pd.concat([train,test])\n",
        "df.head()"
      ]
    },
    {
      "cell_type": "code",
      "execution_count": null,
      "id": "f19d30bb",
      "metadata": {
        "execution": {
          "iopub.execute_input": "2022-03-20T07:05:30.106296Z",
          "iopub.status.busy": "2022-03-20T07:05:30.100173Z",
          "iopub.status.idle": "2022-03-20T07:05:30.222960Z",
          "shell.execute_reply": "2022-03-20T07:05:30.223519Z",
          "shell.execute_reply.started": "2022-03-20T06:31:01.367923Z"
        },
        "papermill": {
          "duration": 0.1892,
          "end_time": "2022-03-20T07:05:30.223719",
          "exception": false,
          "start_time": "2022-03-20T07:05:30.034519",
          "status": "completed"
        },
        "tags": [],
        "colab": {
          "base_uri": "https://localhost:8080/",
          "height": 394
        },
        "id": "f19d30bb",
        "outputId": "ec935737-e092-4bc2-9e2b-0b0e506ec4d6"
      },
      "outputs": [
        {
          "output_type": "execute_result",
          "data": {
            "text/plain": [
              "                Id   MSSubClass  LotFrontage        LotArea  OverallQual  \\\n",
              "count  2919.000000  2919.000000  2433.000000    2919.000000  2919.000000   \n",
              "mean   1460.000000    57.137718    69.305795   10168.114080     6.089072   \n",
              "std     842.787043    42.517628    23.344905    7886.996359     1.409947   \n",
              "min       1.000000    20.000000    21.000000    1300.000000     1.000000   \n",
              "25%     730.500000    20.000000    59.000000    7478.000000     5.000000   \n",
              "50%    1460.000000    50.000000    68.000000    9453.000000     6.000000   \n",
              "75%    2189.500000    70.000000    80.000000   11570.000000     7.000000   \n",
              "max    2919.000000   190.000000   313.000000  215245.000000    10.000000   \n",
              "\n",
              "       OverallCond    YearBuilt  YearRemodAdd   MasVnrArea   BsmtFinSF1  ...  \\\n",
              "count  2919.000000  2919.000000   2919.000000  2896.000000  2918.000000  ...   \n",
              "mean      5.564577  1971.312778   1984.264474   102.201312   441.423235  ...   \n",
              "std       1.113131    30.291442     20.894344   179.334253   455.610826  ...   \n",
              "min       1.000000  1872.000000   1950.000000     0.000000     0.000000  ...   \n",
              "25%       5.000000  1953.500000   1965.000000     0.000000     0.000000  ...   \n",
              "50%       5.000000  1973.000000   1993.000000     0.000000   368.500000  ...   \n",
              "75%       6.000000  2001.000000   2004.000000   164.000000   733.000000  ...   \n",
              "max       9.000000  2010.000000   2010.000000  1600.000000  5644.000000  ...   \n",
              "\n",
              "        WoodDeckSF  OpenPorchSF  EnclosedPorch    3SsnPorch  ScreenPorch  \\\n",
              "count  2919.000000  2919.000000    2919.000000  2919.000000  2919.000000   \n",
              "mean     93.709832    47.486811      23.098321     2.602261    16.062350   \n",
              "std     126.526589    67.575493      64.244246    25.188169    56.184365   \n",
              "min       0.000000     0.000000       0.000000     0.000000     0.000000   \n",
              "25%       0.000000     0.000000       0.000000     0.000000     0.000000   \n",
              "50%       0.000000    26.000000       0.000000     0.000000     0.000000   \n",
              "75%     168.000000    70.000000       0.000000     0.000000     0.000000   \n",
              "max    1424.000000   742.000000    1012.000000   508.000000   576.000000   \n",
              "\n",
              "          PoolArea       MiscVal       MoSold       YrSold      SalePrice  \n",
              "count  2919.000000   2919.000000  2919.000000  2919.000000    1460.000000  \n",
              "mean      2.251799     50.825968     6.213087  2007.792737  180921.195890  \n",
              "std      35.663946    567.402211     2.714762     1.314964   79442.502883  \n",
              "min       0.000000      0.000000     1.000000  2006.000000   34900.000000  \n",
              "25%       0.000000      0.000000     4.000000  2007.000000  129975.000000  \n",
              "50%       0.000000      0.000000     6.000000  2008.000000  163000.000000  \n",
              "75%       0.000000      0.000000     8.000000  2009.000000  214000.000000  \n",
              "max     800.000000  17000.000000    12.000000  2010.000000  755000.000000  \n",
              "\n",
              "[8 rows x 38 columns]"
            ],
            "text/html": [
              "\n",
              "  <div id=\"df-70804fa0-3751-44cb-ab54-420679eb43da\">\n",
              "    <div class=\"colab-df-container\">\n",
              "      <div>\n",
              "<style scoped>\n",
              "    .dataframe tbody tr th:only-of-type {\n",
              "        vertical-align: middle;\n",
              "    }\n",
              "\n",
              "    .dataframe tbody tr th {\n",
              "        vertical-align: top;\n",
              "    }\n",
              "\n",
              "    .dataframe thead th {\n",
              "        text-align: right;\n",
              "    }\n",
              "</style>\n",
              "<table border=\"1\" class=\"dataframe\">\n",
              "  <thead>\n",
              "    <tr style=\"text-align: right;\">\n",
              "      <th></th>\n",
              "      <th>Id</th>\n",
              "      <th>MSSubClass</th>\n",
              "      <th>LotFrontage</th>\n",
              "      <th>LotArea</th>\n",
              "      <th>OverallQual</th>\n",
              "      <th>OverallCond</th>\n",
              "      <th>YearBuilt</th>\n",
              "      <th>YearRemodAdd</th>\n",
              "      <th>MasVnrArea</th>\n",
              "      <th>BsmtFinSF1</th>\n",
              "      <th>...</th>\n",
              "      <th>WoodDeckSF</th>\n",
              "      <th>OpenPorchSF</th>\n",
              "      <th>EnclosedPorch</th>\n",
              "      <th>3SsnPorch</th>\n",
              "      <th>ScreenPorch</th>\n",
              "      <th>PoolArea</th>\n",
              "      <th>MiscVal</th>\n",
              "      <th>MoSold</th>\n",
              "      <th>YrSold</th>\n",
              "      <th>SalePrice</th>\n",
              "    </tr>\n",
              "  </thead>\n",
              "  <tbody>\n",
              "    <tr>\n",
              "      <th>count</th>\n",
              "      <td>2919.000000</td>\n",
              "      <td>2919.000000</td>\n",
              "      <td>2433.000000</td>\n",
              "      <td>2919.000000</td>\n",
              "      <td>2919.000000</td>\n",
              "      <td>2919.000000</td>\n",
              "      <td>2919.000000</td>\n",
              "      <td>2919.000000</td>\n",
              "      <td>2896.000000</td>\n",
              "      <td>2918.000000</td>\n",
              "      <td>...</td>\n",
              "      <td>2919.000000</td>\n",
              "      <td>2919.000000</td>\n",
              "      <td>2919.000000</td>\n",
              "      <td>2919.000000</td>\n",
              "      <td>2919.000000</td>\n",
              "      <td>2919.000000</td>\n",
              "      <td>2919.000000</td>\n",
              "      <td>2919.000000</td>\n",
              "      <td>2919.000000</td>\n",
              "      <td>1460.000000</td>\n",
              "    </tr>\n",
              "    <tr>\n",
              "      <th>mean</th>\n",
              "      <td>1460.000000</td>\n",
              "      <td>57.137718</td>\n",
              "      <td>69.305795</td>\n",
              "      <td>10168.114080</td>\n",
              "      <td>6.089072</td>\n",
              "      <td>5.564577</td>\n",
              "      <td>1971.312778</td>\n",
              "      <td>1984.264474</td>\n",
              "      <td>102.201312</td>\n",
              "      <td>441.423235</td>\n",
              "      <td>...</td>\n",
              "      <td>93.709832</td>\n",
              "      <td>47.486811</td>\n",
              "      <td>23.098321</td>\n",
              "      <td>2.602261</td>\n",
              "      <td>16.062350</td>\n",
              "      <td>2.251799</td>\n",
              "      <td>50.825968</td>\n",
              "      <td>6.213087</td>\n",
              "      <td>2007.792737</td>\n",
              "      <td>180921.195890</td>\n",
              "    </tr>\n",
              "    <tr>\n",
              "      <th>std</th>\n",
              "      <td>842.787043</td>\n",
              "      <td>42.517628</td>\n",
              "      <td>23.344905</td>\n",
              "      <td>7886.996359</td>\n",
              "      <td>1.409947</td>\n",
              "      <td>1.113131</td>\n",
              "      <td>30.291442</td>\n",
              "      <td>20.894344</td>\n",
              "      <td>179.334253</td>\n",
              "      <td>455.610826</td>\n",
              "      <td>...</td>\n",
              "      <td>126.526589</td>\n",
              "      <td>67.575493</td>\n",
              "      <td>64.244246</td>\n",
              "      <td>25.188169</td>\n",
              "      <td>56.184365</td>\n",
              "      <td>35.663946</td>\n",
              "      <td>567.402211</td>\n",
              "      <td>2.714762</td>\n",
              "      <td>1.314964</td>\n",
              "      <td>79442.502883</td>\n",
              "    </tr>\n",
              "    <tr>\n",
              "      <th>min</th>\n",
              "      <td>1.000000</td>\n",
              "      <td>20.000000</td>\n",
              "      <td>21.000000</td>\n",
              "      <td>1300.000000</td>\n",
              "      <td>1.000000</td>\n",
              "      <td>1.000000</td>\n",
              "      <td>1872.000000</td>\n",
              "      <td>1950.000000</td>\n",
              "      <td>0.000000</td>\n",
              "      <td>0.000000</td>\n",
              "      <td>...</td>\n",
              "      <td>0.000000</td>\n",
              "      <td>0.000000</td>\n",
              "      <td>0.000000</td>\n",
              "      <td>0.000000</td>\n",
              "      <td>0.000000</td>\n",
              "      <td>0.000000</td>\n",
              "      <td>0.000000</td>\n",
              "      <td>1.000000</td>\n",
              "      <td>2006.000000</td>\n",
              "      <td>34900.000000</td>\n",
              "    </tr>\n",
              "    <tr>\n",
              "      <th>25%</th>\n",
              "      <td>730.500000</td>\n",
              "      <td>20.000000</td>\n",
              "      <td>59.000000</td>\n",
              "      <td>7478.000000</td>\n",
              "      <td>5.000000</td>\n",
              "      <td>5.000000</td>\n",
              "      <td>1953.500000</td>\n",
              "      <td>1965.000000</td>\n",
              "      <td>0.000000</td>\n",
              "      <td>0.000000</td>\n",
              "      <td>...</td>\n",
              "      <td>0.000000</td>\n",
              "      <td>0.000000</td>\n",
              "      <td>0.000000</td>\n",
              "      <td>0.000000</td>\n",
              "      <td>0.000000</td>\n",
              "      <td>0.000000</td>\n",
              "      <td>0.000000</td>\n",
              "      <td>4.000000</td>\n",
              "      <td>2007.000000</td>\n",
              "      <td>129975.000000</td>\n",
              "    </tr>\n",
              "    <tr>\n",
              "      <th>50%</th>\n",
              "      <td>1460.000000</td>\n",
              "      <td>50.000000</td>\n",
              "      <td>68.000000</td>\n",
              "      <td>9453.000000</td>\n",
              "      <td>6.000000</td>\n",
              "      <td>5.000000</td>\n",
              "      <td>1973.000000</td>\n",
              "      <td>1993.000000</td>\n",
              "      <td>0.000000</td>\n",
              "      <td>368.500000</td>\n",
              "      <td>...</td>\n",
              "      <td>0.000000</td>\n",
              "      <td>26.000000</td>\n",
              "      <td>0.000000</td>\n",
              "      <td>0.000000</td>\n",
              "      <td>0.000000</td>\n",
              "      <td>0.000000</td>\n",
              "      <td>0.000000</td>\n",
              "      <td>6.000000</td>\n",
              "      <td>2008.000000</td>\n",
              "      <td>163000.000000</td>\n",
              "    </tr>\n",
              "    <tr>\n",
              "      <th>75%</th>\n",
              "      <td>2189.500000</td>\n",
              "      <td>70.000000</td>\n",
              "      <td>80.000000</td>\n",
              "      <td>11570.000000</td>\n",
              "      <td>7.000000</td>\n",
              "      <td>6.000000</td>\n",
              "      <td>2001.000000</td>\n",
              "      <td>2004.000000</td>\n",
              "      <td>164.000000</td>\n",
              "      <td>733.000000</td>\n",
              "      <td>...</td>\n",
              "      <td>168.000000</td>\n",
              "      <td>70.000000</td>\n",
              "      <td>0.000000</td>\n",
              "      <td>0.000000</td>\n",
              "      <td>0.000000</td>\n",
              "      <td>0.000000</td>\n",
              "      <td>0.000000</td>\n",
              "      <td>8.000000</td>\n",
              "      <td>2009.000000</td>\n",
              "      <td>214000.000000</td>\n",
              "    </tr>\n",
              "    <tr>\n",
              "      <th>max</th>\n",
              "      <td>2919.000000</td>\n",
              "      <td>190.000000</td>\n",
              "      <td>313.000000</td>\n",
              "      <td>215245.000000</td>\n",
              "      <td>10.000000</td>\n",
              "      <td>9.000000</td>\n",
              "      <td>2010.000000</td>\n",
              "      <td>2010.000000</td>\n",
              "      <td>1600.000000</td>\n",
              "      <td>5644.000000</td>\n",
              "      <td>...</td>\n",
              "      <td>1424.000000</td>\n",
              "      <td>742.000000</td>\n",
              "      <td>1012.000000</td>\n",
              "      <td>508.000000</td>\n",
              "      <td>576.000000</td>\n",
              "      <td>800.000000</td>\n",
              "      <td>17000.000000</td>\n",
              "      <td>12.000000</td>\n",
              "      <td>2010.000000</td>\n",
              "      <td>755000.000000</td>\n",
              "    </tr>\n",
              "  </tbody>\n",
              "</table>\n",
              "<p>8 rows × 38 columns</p>\n",
              "</div>\n",
              "      <button class=\"colab-df-convert\" onclick=\"convertToInteractive('df-70804fa0-3751-44cb-ab54-420679eb43da')\"\n",
              "              title=\"Convert this dataframe to an interactive table.\"\n",
              "              style=\"display:none;\">\n",
              "        \n",
              "  <svg xmlns=\"http://www.w3.org/2000/svg\" height=\"24px\"viewBox=\"0 0 24 24\"\n",
              "       width=\"24px\">\n",
              "    <path d=\"M0 0h24v24H0V0z\" fill=\"none\"/>\n",
              "    <path d=\"M18.56 5.44l.94 2.06.94-2.06 2.06-.94-2.06-.94-.94-2.06-.94 2.06-2.06.94zm-11 1L8.5 8.5l.94-2.06 2.06-.94-2.06-.94L8.5 2.5l-.94 2.06-2.06.94zm10 10l.94 2.06.94-2.06 2.06-.94-2.06-.94-.94-2.06-.94 2.06-2.06.94z\"/><path d=\"M17.41 7.96l-1.37-1.37c-.4-.4-.92-.59-1.43-.59-.52 0-1.04.2-1.43.59L10.3 9.45l-7.72 7.72c-.78.78-.78 2.05 0 2.83L4 21.41c.39.39.9.59 1.41.59.51 0 1.02-.2 1.41-.59l7.78-7.78 2.81-2.81c.8-.78.8-2.07 0-2.86zM5.41 20L4 18.59l7.72-7.72 1.47 1.35L5.41 20z\"/>\n",
              "  </svg>\n",
              "      </button>\n",
              "      \n",
              "  <style>\n",
              "    .colab-df-container {\n",
              "      display:flex;\n",
              "      flex-wrap:wrap;\n",
              "      gap: 12px;\n",
              "    }\n",
              "\n",
              "    .colab-df-convert {\n",
              "      background-color: #E8F0FE;\n",
              "      border: none;\n",
              "      border-radius: 50%;\n",
              "      cursor: pointer;\n",
              "      display: none;\n",
              "      fill: #1967D2;\n",
              "      height: 32px;\n",
              "      padding: 0 0 0 0;\n",
              "      width: 32px;\n",
              "    }\n",
              "\n",
              "    .colab-df-convert:hover {\n",
              "      background-color: #E2EBFA;\n",
              "      box-shadow: 0px 1px 2px rgba(60, 64, 67, 0.3), 0px 1px 3px 1px rgba(60, 64, 67, 0.15);\n",
              "      fill: #174EA6;\n",
              "    }\n",
              "\n",
              "    [theme=dark] .colab-df-convert {\n",
              "      background-color: #3B4455;\n",
              "      fill: #D2E3FC;\n",
              "    }\n",
              "\n",
              "    [theme=dark] .colab-df-convert:hover {\n",
              "      background-color: #434B5C;\n",
              "      box-shadow: 0px 1px 3px 1px rgba(0, 0, 0, 0.15);\n",
              "      filter: drop-shadow(0px 1px 2px rgba(0, 0, 0, 0.3));\n",
              "      fill: #FFFFFF;\n",
              "    }\n",
              "  </style>\n",
              "\n",
              "      <script>\n",
              "        const buttonEl =\n",
              "          document.querySelector('#df-70804fa0-3751-44cb-ab54-420679eb43da button.colab-df-convert');\n",
              "        buttonEl.style.display =\n",
              "          google.colab.kernel.accessAllowed ? 'block' : 'none';\n",
              "\n",
              "        async function convertToInteractive(key) {\n",
              "          const element = document.querySelector('#df-70804fa0-3751-44cb-ab54-420679eb43da');\n",
              "          const dataTable =\n",
              "            await google.colab.kernel.invokeFunction('convertToInteractive',\n",
              "                                                     [key], {});\n",
              "          if (!dataTable) return;\n",
              "\n",
              "          const docLinkHtml = 'Like what you see? Visit the ' +\n",
              "            '<a target=\"_blank\" href=https://colab.research.google.com/notebooks/data_table.ipynb>data table notebook</a>'\n",
              "            + ' to learn more about interactive tables.';\n",
              "          element.innerHTML = '';\n",
              "          dataTable['output_type'] = 'display_data';\n",
              "          await google.colab.output.renderOutput(dataTable, element);\n",
              "          const docLink = document.createElement('div');\n",
              "          docLink.innerHTML = docLinkHtml;\n",
              "          element.appendChild(docLink);\n",
              "        }\n",
              "      </script>\n",
              "    </div>\n",
              "  </div>\n",
              "  "
            ]
          },
          "metadata": {},
          "execution_count": 11
        }
      ],
      "source": [
        "df.describe()"
      ]
    },
    {
      "cell_type": "code",
      "execution_count": null,
      "id": "1ad1fc5a",
      "metadata": {
        "execution": {
          "iopub.execute_input": "2022-03-20T07:05:30.362385Z",
          "iopub.status.busy": "2022-03-20T07:05:30.361541Z",
          "iopub.status.idle": "2022-03-20T07:05:30.370386Z",
          "shell.execute_reply": "2022-03-20T07:05:30.369814Z",
          "shell.execute_reply.started": "2022-03-20T06:31:01.503164Z"
        },
        "papermill": {
          "duration": 0.085698,
          "end_time": "2022-03-20T07:05:30.370525",
          "exception": false,
          "start_time": "2022-03-20T07:05:30.284827",
          "status": "completed"
        },
        "tags": [],
        "colab": {
          "base_uri": "https://localhost:8080/"
        },
        "id": "1ad1fc5a",
        "outputId": "ffe21bcc-f298-4a1c-e413-a75490995914"
      },
      "outputs": [
        {
          "output_type": "execute_result",
          "data": {
            "text/plain": [
              "Id                  0\n",
              "MSSubClass          0\n",
              "MSZoning            4\n",
              "LotFrontage       486\n",
              "LotArea             0\n",
              "                 ... \n",
              "MoSold              0\n",
              "YrSold              0\n",
              "SaleType            1\n",
              "SaleCondition       0\n",
              "SalePrice        1459\n",
              "Length: 81, dtype: int64"
            ]
          },
          "metadata": {},
          "execution_count": 12
        }
      ],
      "source": [
        "dnull=df.isnull().sum()\n",
        "dnull"
      ]
    },
    {
      "cell_type": "code",
      "execution_count": null,
      "id": "4dbd3460",
      "metadata": {
        "execution": {
          "iopub.execute_input": "2022-03-20T07:05:30.498390Z",
          "iopub.status.busy": "2022-03-20T07:05:30.497616Z",
          "iopub.status.idle": "2022-03-20T07:05:31.923721Z",
          "shell.execute_reply": "2022-03-20T07:05:31.922795Z",
          "shell.execute_reply.started": "2022-03-20T06:31:01.529663Z"
        },
        "papermill": {
          "duration": 1.493417,
          "end_time": "2022-03-20T07:05:31.923891",
          "exception": false,
          "start_time": "2022-03-20T07:05:30.430474",
          "status": "completed"
        },
        "tags": [],
        "id": "4dbd3460"
      },
      "outputs": [],
      "source": [
        "import matplotlib.pyplot as plt\n",
        "import seaborn as sns\n",
        "#visualization "
      ]
    },
    {
      "cell_type": "markdown",
      "id": "9227d409",
      "metadata": {
        "papermill": {
          "duration": 0.062042,
          "end_time": "2022-03-20T07:05:32.048594",
          "exception": false,
          "start_time": "2022-03-20T07:05:31.986552",
          "status": "completed"
        },
        "tags": [],
        "id": "9227d409"
      },
      "source": [
        "# **VISUALIZATION**"
      ]
    },
    {
      "cell_type": "code",
      "execution_count": null,
      "id": "cc95c852",
      "metadata": {
        "execution": {
          "iopub.execute_input": "2022-03-20T07:05:32.178033Z",
          "iopub.status.busy": "2022-03-20T07:05:32.177332Z",
          "iopub.status.idle": "2022-03-20T07:05:33.633263Z",
          "shell.execute_reply": "2022-03-20T07:05:33.633706Z",
          "shell.execute_reply.started": "2022-03-20T06:31:02.592772Z"
        },
        "papermill": {
          "duration": 1.524182,
          "end_time": "2022-03-20T07:05:33.633871",
          "exception": false,
          "start_time": "2022-03-20T07:05:32.109689",
          "status": "completed"
        },
        "tags": [],
        "colab": {
          "base_uri": "https://localhost:8080/",
          "height": 624
        },
        "id": "cc95c852",
        "outputId": "07c0cb5d-335e-4494-a86a-e8114667a31c"
      },
      "outputs": [
        {
          "output_type": "execute_result",
          "data": {
            "text/plain": [
              "<matplotlib.axes._subplots.AxesSubplot at 0x7f57ee239590>"
            ]
          },
          "metadata": {},
          "execution_count": 14
        },
        {
          "output_type": "display_data",
          "data": {
            "text/plain": [
              "<Figure size 1152x648 with 2 Axes>"
            ],
            "image/png": "[encoded data removed]"
          },
          "metadata": {
            "needs_background": "light"
          }
        }
      ],
      "source": [
        "#to identify the place of nulls\n",
        "plt.figure(figsize=(16,9))\n",
        "sns.heatmap(df.isnull())"
      ]
    },
    {
      "cell_type": "code",
      "execution_count": null,
      "id": "afc9cef6",
      "metadata": {
        "execution": {
          "iopub.execute_input": "2022-03-20T07:05:33.718391Z",
          "iopub.status.busy": "2022-03-20T07:05:33.717747Z",
          "iopub.status.idle": "2022-03-20T07:05:33.742010Z",
          "shell.execute_reply": "2022-03-20T07:05:33.742439Z",
          "shell.execute_reply.started": "2022-03-20T06:31:04.08195Z"
        },
        "papermill": {
          "duration": 0.067396,
          "end_time": "2022-03-20T07:05:33.742590",
          "exception": false,
          "start_time": "2022-03-20T07:05:33.675194",
          "status": "completed"
        },
        "tags": [],
        "colab": {
          "base_uri": "https://localhost:8080/",
          "height": 299
        },
        "id": "afc9cef6",
        "outputId": "f8eb6080-594f-4ebb-da39-e6d946e1447e"
      },
      "outputs": [
        {
          "output_type": "execute_result",
          "data": {
            "text/plain": [
              "   Id  MSSubClass MSZoning  LotFrontage  LotArea Street Alley LotShape  \\\n",
              "0   1          60       RL         65.0     8450   Pave   NaN      Reg   \n",
              "1   2          20       RL         80.0     9600   Pave   NaN      Reg   \n",
              "2   3          60       RL         68.0    11250   Pave   NaN      IR1   \n",
              "3   4          70       RL         60.0     9550   Pave   NaN      IR1   \n",
              "4   5          60       RL         84.0    14260   Pave   NaN      IR1   \n",
              "\n",
              "  LandContour Utilities  ... PoolArea PoolQC Fence MiscFeature MiscVal MoSold  \\\n",
              "0         Lvl    AllPub  ...        0    NaN   NaN         NaN       0      2   \n",
              "1         Lvl    AllPub  ...        0    NaN   NaN         NaN       0      5   \n",
              "2         Lvl    AllPub  ...        0    NaN   NaN         NaN       0      9   \n",
              "3         Lvl    AllPub  ...        0    NaN   NaN         NaN       0      2   \n",
              "4         Lvl    AllPub  ...        0    NaN   NaN         NaN       0     12   \n",
              "\n",
              "  YrSold  SaleType  SaleCondition  SalePrice  \n",
              "0   2008        WD         Normal   208500.0  \n",
              "1   2007        WD         Normal   181500.0  \n",
              "2   2008        WD         Normal   223500.0  \n",
              "3   2006        WD        Abnorml   140000.0  \n",
              "4   2008        WD         Normal   250000.0  \n",
              "\n",
              "[5 rows x 81 columns]"
            ],
            "text/html": [
              "\n",
              "  <div id=\"df-7ee8cd2b-5148-4b4a-8a13-ddf1f722ffe8\">\n",
              "    <div class=\"colab-df-container\">\n",
              "      <div>\n",
              "<style scoped>\n",
              "    .dataframe tbody tr th:only-of-type {\n",
              "        vertical-align: middle;\n",
              "    }\n",
              "\n",
              "    .dataframe tbody tr th {\n",
              "        vertical-align: top;\n",
              "    }\n",
              "\n",
              "    .dataframe thead th {\n",
              "        text-align: right;\n",
              "    }\n",
              "</style>\n",
              "<table border=\"1\" class=\"dataframe\">\n",
              "  <thead>\n",
              "    <tr style=\"text-align: right;\">\n",
              "      <th></th>\n",
              "      <th>Id</th>\n",
              "      <th>MSSubClass</th>\n",
              "      <th>MSZoning</th>\n",
              "      <th>LotFrontage</th>\n",
              "      <th>LotArea</th>\n",
              "      <th>Street</th>\n",
              "      <th>Alley</th>\n",
              "      <th>LotShape</th>\n",
              "      <th>LandContour</th>\n",
              "      <th>Utilities</th>\n",
              "      <th>...</th>\n",
              "      <th>PoolArea</th>\n",
              "      <th>PoolQC</th>\n",
              "      <th>Fence</th>\n",
              "      <th>MiscFeature</th>\n",
              "      <th>MiscVal</th>\n",
              "      <th>MoSold</th>\n",
              "      <th>YrSold</th>\n",
              "      <th>SaleType</th>\n",
              "      <th>SaleCondition</th>\n",
              "      <th>SalePrice</th>\n",
              "    </tr>\n",
              "  </thead>\n",
              "  <tbody>\n",
              "    <tr>\n",
              "      <th>0</th>\n",
              "      <td>1</td>\n",
              "      <td>60</td>\n",
              "      <td>RL</td>\n",
              "      <td>65.0</td>\n",
              "      <td>8450</td>\n",
              "      <td>Pave</td>\n",
              "      <td>NaN</td>\n",
              "      <td>Reg</td>\n",
              "      <td>Lvl</td>\n",
              "      <td>AllPub</td>\n",
              "      <td>...</td>\n",
              "      <td>0</td>\n",
              "      <td>NaN</td>\n",
              "      <td>NaN</td>\n",
              "      <td>NaN</td>\n",
              "      <td>0</td>\n",
              "      <td>2</td>\n",
              "      <td>2008</td>\n",
              "      <td>WD</td>\n",
              "      <td>Normal</td>\n",
              "      <td>208500.0</td>\n",
              "    </tr>\n",
              "    <tr>\n",
              "      <th>1</th>\n",
              "      <td>2</td>\n",
              "      <td>20</td>\n",
              "      <td>RL</td>\n",
              "      <td>80.0</td>\n",
              "      <td>9600</td>\n",
              "      <td>Pave</td>\n",
              "      <td>NaN</td>\n",
              "      <td>Reg</td>\n",
              "      <td>Lvl</td>\n",
              "      <td>AllPub</td>\n",
              "      <td>...</td>\n",
              "      <td>0</td>\n",
              "      <td>NaN</td>\n",
              "      <td>NaN</td>\n",
              "      <td>NaN</td>\n",
              "      <td>0</td>\n",
              "      <td>5</td>\n",
              "      <td>2007</td>\n",
              "      <td>WD</td>\n",
              "      <td>Normal</td>\n",
              "      <td>181500.0</td>\n",
              "    </tr>\n",
              "    <tr>\n",
              "      <th>2</th>\n",
              "      <td>3</td>\n",
              "      <td>60</td>\n",
              "      <td>RL</td>\n",
              "      <td>68.0</td>\n",
              "      <td>11250</td>\n",
              "      <td>Pave</td>\n",
              "      <td>NaN</td>\n",
              "      <td>IR1</td>\n",
              "      <td>Lvl</td>\n",
              "      <td>AllPub</td>\n",
              "      <td>...</td>\n",
              "      <td>0</td>\n",
              "      <td>NaN</td>\n",
              "      <td>NaN</td>\n",
              "      <td>NaN</td>\n",
              "      <td>0</td>\n",
              "      <td>9</td>\n",
              "      <td>2008</td>\n",
              "      <td>WD</td>\n",
              "      <td>Normal</td>\n",
              "      <td>223500.0</td>\n",
              "    </tr>\n",
              "    <tr>\n",
              "      <th>3</th>\n",
              "      <td>4</td>\n",
              "      <td>70</td>\n",
              "      <td>RL</td>\n",
              "      <td>60.0</td>\n",
              "      <td>9550</td>\n",
              "      <td>Pave</td>\n",
              "      <td>NaN</td>\n",
              "      <td>IR1</td>\n",
              "      <td>Lvl</td>\n",
              "      <td>AllPub</td>\n",
              "      <td>...</td>\n",
              "      <td>0</td>\n",
              "      <td>NaN</td>\n",
              "      <td>NaN</td>\n",
              "      <td>NaN</td>\n",
              "      <td>0</td>\n",
              "      <td>2</td>\n",
              "      <td>2006</td>\n",
              "      <td>WD</td>\n",
              "      <td>Abnorml</td>\n",
              "      <td>140000.0</td>\n",
              "    </tr>\n",
              "    <tr>\n",
              "      <th>4</th>\n",
              "      <td>5</td>\n",
              "      <td>60</td>\n",
              "      <td>RL</td>\n",
              "      <td>84.0</td>\n",
              "      <td>14260</td>\n",
              "      <td>Pave</td>\n",
              "      <td>NaN</td>\n",
              "      <td>IR1</td>\n",
              "      <td>Lvl</td>\n",
              "      <td>AllPub</td>\n",
              "      <td>...</td>\n",
              "      <td>0</td>\n",
              "      <td>NaN</td>\n",
              "      <td>NaN</td>\n",
              "      <td>NaN</td>\n",
              "      <td>0</td>\n",
              "      <td>12</td>\n",
              "      <td>2008</td>\n",
              "      <td>WD</td>\n",
              "      <td>Normal</td>\n",
              "      <td>250000.0</td>\n",
              "    </tr>\n",
              "  </tbody>\n",
              "</table>\n",
              "<p>5 rows × 81 columns</p>\n",
              "</div>\n",
              "      <button class=\"colab-df-convert\" onclick=\"convertToInteractive('df-7ee8cd2b-5148-4b4a-8a13-ddf1f722ffe8')\"\n",
              "              title=\"Convert this dataframe to an interactive table.\"\n",
              "              style=\"display:none;\">\n",
              "        \n",
              "  <svg xmlns=\"http://www.w3.org/2000/svg\" height=\"24px\"viewBox=\"0 0 24 24\"\n",
              "       width=\"24px\">\n",
              "    <path d=\"M0 0h24v24H0V0z\" fill=\"none\"/>\n",
              "    <path d=\"M18.56 5.44l.94 2.06.94-2.06 2.06-.94-2.06-.94-.94-2.06-.94 2.06-2.06.94zm-11 1L8.5 8.5l.94-2.06 2.06-.94-2.06-.94L8.5 2.5l-.94 2.06-2.06.94zm10 10l.94 2.06.94-2.06 2.06-.94-2.06-.94-.94-2.06-.94 2.06-2.06.94z\"/><path d=\"M17.41 7.96l-1.37-1.37c-.4-.4-.92-.59-1.43-.59-.52 0-1.04.2-1.43.59L10.3 9.45l-7.72 7.72c-.78.78-.78 2.05 0 2.83L4 21.41c.39.39.9.59 1.41.59.51 0 1.02-.2 1.41-.59l7.78-7.78 2.81-2.81c.8-.78.8-2.07 0-2.86zM5.41 20L4 18.59l7.72-7.72 1.47 1.35L5.41 20z\"/>\n",
              "  </svg>\n",
              "      </button>\n",
              "      \n",
              "  <style>\n",
              "    .colab-df-container {\n",
              "      display:flex;\n",
              "      flex-wrap:wrap;\n",
              "      gap: 12px;\n",
              "    }\n",
              "\n",
              "    .colab-df-convert {\n",
              "      background-color: #E8F0FE;\n",
              "      border: none;\n",
              "      border-radius: 50%;\n",
              "      cursor: pointer;\n",
              "      display: none;\n",
              "      fill: #1967D2;\n",
              "      height: 32px;\n",
              "      padding: 0 0 0 0;\n",
              "      width: 32px;\n",
              "    }\n",
              "\n",
              "    .colab-df-convert:hover {\n",
              "      background-color: #E2EBFA;\n",
              "      box-shadow: 0px 1px 2px rgba(60, 64, 67, 0.3), 0px 1px 3px 1px rgba(60, 64, 67, 0.15);\n",
              "      fill: #174EA6;\n",
              "    }\n",
              "\n",
              "    [theme=dark] .colab-df-convert {\n",
              "      background-color: #3B4455;\n",
              "      fill: #D2E3FC;\n",
              "    }\n",
              "\n",
              "    [theme=dark] .colab-df-convert:hover {\n",
              "      background-color: #434B5C;\n",
              "      box-shadow: 0px 1px 3px 1px rgba(0, 0, 0, 0.15);\n",
              "      filter: drop-shadow(0px 1px 2px rgba(0, 0, 0, 0.3));\n",
              "      fill: #FFFFFF;\n",
              "    }\n",
              "  </style>\n",
              "\n",
              "      <script>\n",
              "        const buttonEl =\n",
              "          document.querySelector('#df-7ee8cd2b-5148-4b4a-8a13-ddf1f722ffe8 button.colab-df-convert');\n",
              "        buttonEl.style.display =\n",
              "          google.colab.kernel.accessAllowed ? 'block' : 'none';\n",
              "\n",
              "        async function convertToInteractive(key) {\n",
              "          const element = document.querySelector('#df-7ee8cd2b-5148-4b4a-8a13-ddf1f722ffe8');\n",
              "          const dataTable =\n",
              "            await google.colab.kernel.invokeFunction('convertToInteractive',\n",
              "                                                     [key], {});\n",
              "          if (!dataTable) return;\n",
              "\n",
              "          const docLinkHtml = 'Like what you see? Visit the ' +\n",
              "            '<a target=\"_blank\" href=https://colab.research.google.com/notebooks/data_table.ipynb>data table notebook</a>'\n",
              "            + ' to learn more about interactive tables.';\n",
              "          element.innerHTML = '';\n",
              "          dataTable['output_type'] = 'display_data';\n",
              "          await google.colab.output.renderOutput(dataTable, element);\n",
              "          const docLink = document.createElement('div');\n",
              "          docLink.innerHTML = docLinkHtml;\n",
              "          element.appendChild(docLink);\n",
              "        }\n",
              "      </script>\n",
              "    </div>\n",
              "  </div>\n",
              "  "
            ]
          },
          "metadata": {},
          "execution_count": 15
        }
      ],
      "source": [
        "df.head()"
      ]
    },
    {
      "cell_type": "markdown",
      "id": "6a624033",
      "metadata": {
        "papermill": {
          "duration": 0.041719,
          "end_time": "2022-03-20T07:05:33.826320",
          "exception": false,
          "start_time": "2022-03-20T07:05:33.784601",
          "status": "completed"
        },
        "tags": [],
        "id": "6a624033"
      },
      "source": [
        "**Here, i find all the columns with null values.\n",
        "Now i'm going to fill all the colums of null values with other value**"
      ]
    },
    {
      "cell_type": "code",
      "execution_count": null,
      "id": "a01ef442",
      "metadata": {
        "execution": {
          "iopub.execute_input": "2022-03-20T07:05:33.913702Z",
          "iopub.status.busy": "2022-03-20T07:05:33.912855Z",
          "iopub.status.idle": "2022-03-20T07:05:33.949295Z",
          "shell.execute_reply": "2022-03-20T07:05:33.948754Z",
          "shell.execute_reply.started": "2022-03-20T06:31:04.112208Z"
        },
        "papermill": {
          "duration": 0.081413,
          "end_time": "2022-03-20T07:05:33.949432",
          "exception": false,
          "start_time": "2022-03-20T07:05:33.868019",
          "status": "completed"
        },
        "tags": [],
        "colab": {
          "base_uri": "https://localhost:8080/"
        },
        "id": "a01ef442",
        "outputId": "241edd89-679c-4607-e939-d7f89cf39dc7"
      },
      "outputs": [
        {
          "output_type": "execute_result",
          "data": {
            "text/plain": [
              "['MSZoning',\n",
              " 'LotFrontage',\n",
              " 'Alley',\n",
              " 'Utilities',\n",
              " 'Exterior1st',\n",
              " 'Exterior2nd',\n",
              " 'MasVnrType',\n",
              " 'MasVnrArea',\n",
              " 'BsmtQual',\n",
              " 'BsmtCond',\n",
              " 'BsmtExposure',\n",
              " 'BsmtFinType1',\n",
              " 'BsmtFinSF1',\n",
              " 'BsmtFinType2',\n",
              " 'BsmtFinSF2',\n",
              " 'BsmtUnfSF',\n",
              " 'TotalBsmtSF',\n",
              " 'Electrical',\n",
              " 'BsmtFullBath',\n",
              " 'BsmtHalfBath',\n",
              " 'KitchenQual',\n",
              " 'Functional',\n",
              " 'FireplaceQu',\n",
              " 'GarageType',\n",
              " 'GarageYrBlt',\n",
              " 'GarageFinish',\n",
              " 'GarageCars',\n",
              " 'GarageArea',\n",
              " 'GarageQual',\n",
              " 'GarageCond',\n",
              " 'PoolQC',\n",
              " 'Fence',\n",
              " 'MiscFeature',\n",
              " 'SaleType',\n",
              " 'SalePrice']"
            ]
          },
          "metadata": {},
          "execution_count": 16
        }
      ],
      "source": [
        "nan_cols = [i for i in df.columns if df[i].isnull().any()]\n",
        "nan_cols"
      ]
    },
    {
      "cell_type": "code",
      "execution_count": null,
      "id": "1280c21d",
      "metadata": {
        "execution": {
          "iopub.execute_input": "2022-03-20T07:05:34.085102Z",
          "iopub.status.busy": "2022-03-20T07:05:34.084459Z",
          "iopub.status.idle": "2022-03-20T07:05:34.087380Z",
          "shell.execute_reply": "2022-03-20T07:05:34.087876Z",
          "shell.execute_reply.started": "2022-03-20T06:31:04.166157Z"
        },
        "papermill": {
          "duration": 0.07422,
          "end_time": "2022-03-20T07:05:34.088055",
          "exception": false,
          "start_time": "2022-03-20T07:05:34.013835",
          "status": "completed"
        },
        "tags": [],
        "id": "1280c21d"
      },
      "outputs": [],
      "source": [
        "df['LotFrontage'].fillna(np.mean(df['LotFrontage']), inplace=True) #it is a numerical attribute so we can fill with mean of it"
      ]
    },
    {
      "cell_type": "code",
      "execution_count": null,
      "id": "c80db336",
      "metadata": {
        "execution": {
          "iopub.execute_input": "2022-03-20T07:05:34.233359Z",
          "iopub.status.busy": "2022-03-20T07:05:34.218457Z",
          "iopub.status.idle": "2022-03-20T07:05:34.242748Z",
          "shell.execute_reply": "2022-03-20T07:05:34.242114Z",
          "shell.execute_reply.started": "2022-03-20T06:31:04.175734Z"
        },
        "papermill": {
          "duration": 0.090717,
          "end_time": "2022-03-20T07:05:34.242889",
          "exception": false,
          "start_time": "2022-03-20T07:05:34.152172",
          "status": "completed"
        },
        "tags": [],
        "colab": {
          "base_uri": "https://localhost:8080/"
        },
        "id": "c80db336",
        "outputId": "35b93fb4-2328-4bd9-efdc-0f195548bf56"
      },
      "outputs": [
        {
          "output_type": "execute_result",
          "data": {
            "text/plain": [
              "Id                  0\n",
              "MSSubClass          0\n",
              "MSZoning            4\n",
              "LotFrontage         0\n",
              "LotArea             0\n",
              "                 ... \n",
              "MoSold              0\n",
              "YrSold              0\n",
              "SaleType            1\n",
              "SaleCondition       0\n",
              "SalePrice        1459\n",
              "Length: 81, dtype: int64"
            ]
          },
          "metadata": {},
          "execution_count": 18
        }
      ],
      "source": [
        "dnull=df.isnull().sum()\n",
        "dnull "
      ]
    },
    {
      "cell_type": "code",
      "execution_count": null,
      "id": "d96791d3",
      "metadata": {
        "execution": {
          "iopub.execute_input": "2022-03-20T07:05:34.378776Z",
          "iopub.status.busy": "2022-03-20T07:05:34.378119Z",
          "iopub.status.idle": "2022-03-20T07:05:34.389085Z",
          "shell.execute_reply": "2022-03-20T07:05:34.389678Z",
          "shell.execute_reply.started": "2022-03-20T06:31:04.20576Z"
        },
        "papermill": {
          "duration": 0.083087,
          "end_time": "2022-03-20T07:05:34.389859",
          "exception": false,
          "start_time": "2022-03-20T07:05:34.306772",
          "status": "completed"
        },
        "tags": [],
        "id": "d96791d3"
      },
      "outputs": [],
      "source": [
        "df['BsmtQual'].fillna(df['BsmtQual'].mode()[0], inplace=True)\n",
        "df['BsmtCond'].fillna(df['BsmtCond'].mode()[0], inplace=True)\n",
        "df['BsmtExposure'].fillna(df['BsmtExposure'].mode()[0], inplace=True)\n",
        "df['BsmtFinType1'].fillna(df['BsmtFinType1'].mode()[0], inplace=True)\n",
        "df['BsmtFinType2'].fillna(df['BsmtFinType2'].mode()[0], inplace=True)\n",
        "df['Electrical'].fillna(df['Electrical'].mode()[0], inplace=True)\n",
        "    \n"
      ]
    },
    {
      "cell_type": "code",
      "execution_count": null,
      "id": "cb95e19b",
      "metadata": {
        "execution": {
          "iopub.execute_input": "2022-03-20T07:05:34.534280Z",
          "iopub.status.busy": "2022-03-20T07:05:34.533540Z",
          "iopub.status.idle": "2022-03-20T07:05:34.543218Z",
          "shell.execute_reply": "2022-03-20T07:05:34.542474Z",
          "shell.execute_reply.started": "2022-03-20T06:31:04.222118Z"
        },
        "papermill": {
          "duration": 0.090455,
          "end_time": "2022-03-20T07:05:34.543378",
          "exception": false,
          "start_time": "2022-03-20T07:05:34.452923",
          "status": "completed"
        },
        "tags": [],
        "colab": {
          "base_uri": "https://localhost:8080/"
        },
        "id": "cb95e19b",
        "outputId": "521d6858-5980-4300-9c29-43ba97aa8216"
      },
      "outputs": [
        {
          "output_type": "execute_result",
          "data": {
            "text/plain": [
              "Id                  0\n",
              "MSSubClass          0\n",
              "MSZoning            4\n",
              "LotFrontage         0\n",
              "LotArea             0\n",
              "                 ... \n",
              "MoSold              0\n",
              "YrSold              0\n",
              "SaleType            1\n",
              "SaleCondition       0\n",
              "SalePrice        1459\n",
              "Length: 81, dtype: int64"
            ]
          },
          "metadata": {},
          "execution_count": 20
        }
      ],
      "source": [
        "dnull=df.isnull().sum()\n",
        "dnull"
      ]
    },
    {
      "cell_type": "code",
      "execution_count": null,
      "id": "462294d8",
      "metadata": {
        "execution": {
          "iopub.execute_input": "2022-03-20T07:05:34.683516Z",
          "iopub.status.busy": "2022-03-20T07:05:34.682800Z",
          "iopub.status.idle": "2022-03-20T07:05:34.687342Z",
          "shell.execute_reply": "2022-03-20T07:05:34.686674Z",
          "shell.execute_reply.started": "2022-03-20T06:31:04.260649Z"
        },
        "papermill": {
          "duration": 0.078793,
          "end_time": "2022-03-20T07:05:34.687503",
          "exception": false,
          "start_time": "2022-03-20T07:05:34.608710",
          "status": "completed"
        },
        "tags": [],
        "id": "462294d8"
      },
      "outputs": [],
      "source": [
        "df['GarageType'].fillna('No',inplace=True) # fill no that doens't have any garage type\n",
        "df['GarageYrBlt'].fillna(0,inplace=True) # fill 0 that doesn't have any garage yr build because they don't have any garage\n",
        "df['GarageFinish'].fillna('No',inplace=True)\n",
        "df['GarageQual'].fillna('No',inplace=True) "
      ]
    },
    {
      "cell_type": "code",
      "execution_count": null,
      "id": "e94b1e22",
      "metadata": {
        "execution": {
          "iopub.execute_input": "2022-03-20T07:05:34.841823Z",
          "iopub.status.busy": "2022-03-20T07:05:34.840931Z",
          "iopub.status.idle": "2022-03-20T07:05:34.845176Z",
          "shell.execute_reply": "2022-03-20T07:05:34.844545Z",
          "shell.execute_reply.started": "2022-03-20T06:31:04.271916Z"
        },
        "papermill": {
          "duration": 0.092742,
          "end_time": "2022-03-20T07:05:34.845338",
          "exception": false,
          "start_time": "2022-03-20T07:05:34.752596",
          "status": "completed"
        },
        "tags": [],
        "colab": {
          "base_uri": "https://localhost:8080/"
        },
        "id": "e94b1e22",
        "outputId": "b12f4e20-3393-44d5-999a-5d9ecb92bfb8"
      },
      "outputs": [
        {
          "output_type": "execute_result",
          "data": {
            "text/plain": [
              "Id                  0\n",
              "MSSubClass          0\n",
              "MSZoning            4\n",
              "LotFrontage         0\n",
              "LotArea             0\n",
              "                 ... \n",
              "MoSold              0\n",
              "YrSold              0\n",
              "SaleType            1\n",
              "SaleCondition       0\n",
              "SalePrice        1459\n",
              "Length: 81, dtype: int64"
            ]
          },
          "metadata": {},
          "execution_count": 22
        }
      ],
      "source": [
        "dnull=df.isnull().sum()\n",
        "dnull"
      ]
    },
    {
      "cell_type": "code",
      "execution_count": null,
      "id": "78b77819",
      "metadata": {
        "execution": {
          "iopub.execute_input": "2022-03-20T07:05:35.009880Z",
          "iopub.status.busy": "2022-03-20T07:05:35.009059Z",
          "iopub.status.idle": "2022-03-20T07:05:35.018884Z",
          "shell.execute_reply": "2022-03-20T07:05:35.019502Z",
          "shell.execute_reply.started": "2022-03-20T06:31:04.305485Z"
        },
        "papermill": {
          "duration": 0.108956,
          "end_time": "2022-03-20T07:05:35.019685",
          "exception": false,
          "start_time": "2022-03-20T07:05:34.910729",
          "status": "completed"
        },
        "tags": [],
        "colab": {
          "base_uri": "https://localhost:8080/"
        },
        "id": "78b77819",
        "outputId": "5fa8e293-17b4-4ae8-c886-236d6608a28c"
      },
      "outputs": [
        {
          "output_type": "execute_result",
          "data": {
            "text/plain": [
              "['MSZoning',\n",
              " 'Alley',\n",
              " 'Utilities',\n",
              " 'Exterior1st',\n",
              " 'Exterior2nd',\n",
              " 'MasVnrType',\n",
              " 'MasVnrArea',\n",
              " 'BsmtFinSF1',\n",
              " 'BsmtFinSF2',\n",
              " 'BsmtUnfSF',\n",
              " 'TotalBsmtSF',\n",
              " 'BsmtFullBath',\n",
              " 'BsmtHalfBath',\n",
              " 'KitchenQual',\n",
              " 'Functional',\n",
              " 'FireplaceQu',\n",
              " 'GarageCars',\n",
              " 'GarageArea',\n",
              " 'GarageCond',\n",
              " 'PoolQC',\n",
              " 'Fence',\n",
              " 'MiscFeature',\n",
              " 'SaleType',\n",
              " 'SalePrice']"
            ]
          },
          "metadata": {},
          "execution_count": 23
        }
      ],
      "source": [
        "nan_cols = [i for i in df.columns if df[i].isnull().any()]\n",
        "nan_cols"
      ]
    },
    {
      "cell_type": "code",
      "execution_count": null,
      "id": "9f764e8e",
      "metadata": {
        "execution": {
          "iopub.execute_input": "2022-03-20T07:05:35.193707Z",
          "iopub.status.busy": "2022-03-20T07:05:35.192116Z",
          "iopub.status.idle": "2022-03-20T07:05:35.211397Z",
          "shell.execute_reply": "2022-03-20T07:05:35.211896Z",
          "shell.execute_reply.started": "2022-03-20T06:31:04.342297Z"
        },
        "papermill": {
          "duration": 0.110213,
          "end_time": "2022-03-20T07:05:35.212073",
          "exception": false,
          "start_time": "2022-03-20T07:05:35.101860",
          "status": "completed"
        },
        "tags": [],
        "id": "9f764e8e"
      },
      "outputs": [],
      "source": [
        "df['MSZoning'].fillna(df['MSZoning'].mode()[0], inplace=True)\n",
        "df['Utilities'].fillna(df['Utilities'].mode()[0], inplace=True)\n",
        "df['Exterior1st'].fillna(df['Exterior1st'].mode()[0], inplace=True)\n",
        "df['BsmtFinSF1'].fillna(df['BsmtFinSF1'].mean(), inplace=True)\n",
        "df['BsmtFinSF2'].fillna(df['BsmtFinSF2'].mean(), inplace=True)\n",
        "df['BsmtUnfSF'].fillna(df['BsmtUnfSF'].mean(), inplace=True)\n",
        "df['TotalBsmtSF'].fillna(df['TotalBsmtSF'].mean(), inplace=True)\n",
        "df['BsmtFullBath'].fillna(df['BsmtFullBath'].mode()[0], inplace=True)\n",
        "df['BsmtHalfBath'].fillna(df['BsmtHalfBath'].mode()[0], inplace=True)\n",
        "df['KitchenQual'].fillna(df['KitchenQual'].mode()[0], inplace=True)\n",
        "df['Functional'].fillna(df['Functional'].mode()[0], inplace=True)\n",
        "df['GarageCars'].fillna(df['GarageCars'].mode()[0], inplace=True)\n",
        "df['GarageArea'].fillna(df['GarageArea'].mean(), inplace=True)\n",
        "df['SaleType'].fillna(df['SaleType'].mode()[0], inplace=True)"
      ]
    },
    {
      "cell_type": "code",
      "execution_count": null,
      "id": "5333a32d",
      "metadata": {
        "execution": {
          "iopub.execute_input": "2022-03-20T07:05:35.319700Z",
          "iopub.status.busy": "2022-03-20T07:05:35.319152Z",
          "iopub.status.idle": "2022-03-20T07:05:35.344660Z",
          "shell.execute_reply": "2022-03-20T07:05:35.345083Z",
          "shell.execute_reply.started": "2022-03-20T06:31:04.371759Z"
        },
        "papermill": {
          "duration": 0.077785,
          "end_time": "2022-03-20T07:05:35.345229",
          "exception": false,
          "start_time": "2022-03-20T07:05:35.267444",
          "status": "completed"
        },
        "tags": [],
        "colab": {
          "base_uri": "https://localhost:8080/"
        },
        "id": "5333a32d",
        "outputId": "131f39c5-562f-4a39-9620-bef7fd6bbcb7"
      },
      "outputs": [
        {
          "output_type": "execute_result",
          "data": {
            "text/plain": [
              "Id                  0\n",
              "MSSubClass          0\n",
              "MSZoning            0\n",
              "LotFrontage         0\n",
              "LotArea             0\n",
              "                 ... \n",
              "MoSold              0\n",
              "YrSold              0\n",
              "SaleType            0\n",
              "SaleCondition       0\n",
              "SalePrice        1459\n",
              "Length: 81, dtype: int64"
            ]
          },
          "metadata": {},
          "execution_count": 25
        }
      ],
      "source": [
        "dnull=df.isnull().sum()\n",
        "dnull"
      ]
    },
    {
      "cell_type": "code",
      "execution_count": null,
      "id": "44412e06",
      "metadata": {
        "execution": {
          "iopub.execute_input": "2022-03-20T07:05:35.497176Z",
          "iopub.status.busy": "2022-03-20T07:05:35.496372Z",
          "iopub.status.idle": "2022-03-20T07:05:35.526083Z",
          "shell.execute_reply": "2022-03-20T07:05:35.526656Z",
          "shell.execute_reply.started": "2022-03-20T06:31:04.39605Z"
        },
        "papermill": {
          "duration": 0.102667,
          "end_time": "2022-03-20T07:05:35.526851",
          "exception": false,
          "start_time": "2022-03-20T07:05:35.424184",
          "status": "completed"
        },
        "tags": [],
        "colab": {
          "base_uri": "https://localhost:8080/"
        },
        "id": "44412e06",
        "outputId": "39f808c8-601d-4da9-cc62-90e8dff20003"
      },
      "outputs": [
        {
          "output_type": "execute_result",
          "data": {
            "text/plain": [
              "['Alley',\n",
              " 'Exterior2nd',\n",
              " 'MasVnrType',\n",
              " 'MasVnrArea',\n",
              " 'FireplaceQu',\n",
              " 'GarageCond',\n",
              " 'PoolQC',\n",
              " 'Fence',\n",
              " 'MiscFeature',\n",
              " 'SalePrice']"
            ]
          },
          "metadata": {},
          "execution_count": 26
        }
      ],
      "source": [
        "nan_cols = [i for i in df.columns if df[i].isnull().any()]\n",
        "nan_cols"
      ]
    },
    {
      "cell_type": "code",
      "execution_count": null,
      "id": "61942b49",
      "metadata": {
        "execution": {
          "iopub.execute_input": "2022-03-20T07:05:35.668633Z",
          "iopub.status.busy": "2022-03-20T07:05:35.667729Z",
          "iopub.status.idle": "2022-03-20T07:05:35.674679Z",
          "shell.execute_reply": "2022-03-20T07:05:35.675286Z",
          "shell.execute_reply.started": "2022-03-20T06:31:04.429795Z"
        },
        "papermill": {
          "duration": 0.078616,
          "end_time": "2022-03-20T07:05:35.675452",
          "exception": false,
          "start_time": "2022-03-20T07:05:35.596836",
          "status": "completed"
        },
        "tags": [],
        "colab": {
          "base_uri": "https://localhost:8080/"
        },
        "id": "61942b49",
        "outputId": "98f2788a-e26e-416b-9e69-d3307b92d64a"
      },
      "outputs": [
        {
          "output_type": "execute_result",
          "data": {
            "text/plain": [
              "0       BrkFace\n",
              "1          None\n",
              "2       BrkFace\n",
              "3          None\n",
              "4       BrkFace\n",
              "         ...   \n",
              "1454       None\n",
              "1455       None\n",
              "1456       None\n",
              "1457       None\n",
              "1458    BrkFace\n",
              "Name: MasVnrType, Length: 2919, dtype: object"
            ]
          },
          "metadata": {},
          "execution_count": 27
        }
      ],
      "source": [
        "df['MasVnrType'] \n"
      ]
    },
    {
      "cell_type": "code",
      "execution_count": null,
      "id": "f954d181",
      "metadata": {
        "execution": {
          "iopub.execute_input": "2022-03-20T07:05:35.819600Z",
          "iopub.status.busy": "2022-03-20T07:05:35.818714Z",
          "iopub.status.idle": "2022-03-20T07:05:35.828183Z",
          "shell.execute_reply": "2022-03-20T07:05:35.827553Z",
          "shell.execute_reply.started": "2022-03-20T06:31:04.440582Z"
        },
        "papermill": {
          "duration": 0.082334,
          "end_time": "2022-03-20T07:05:35.828361",
          "exception": false,
          "start_time": "2022-03-20T07:05:35.746027",
          "status": "completed"
        },
        "tags": [],
        "colab": {
          "base_uri": "https://localhost:8080/"
        },
        "id": "f954d181",
        "outputId": "73631cbb-4921-4eda-dbd8-abe29282e7ac"
      },
      "outputs": [
        {
          "output_type": "execute_result",
          "data": {
            "text/plain": [
              "0       196.0\n",
              "1         0.0\n",
              "2       162.0\n",
              "3         0.0\n",
              "4       350.0\n",
              "        ...  \n",
              "1454      0.0\n",
              "1455      0.0\n",
              "1456      0.0\n",
              "1457      0.0\n",
              "1458     94.0\n",
              "Name: MasVnrArea, Length: 2919, dtype: float64"
            ]
          },
          "metadata": {},
          "execution_count": 28
        }
      ],
      "source": [
        "df['MasVnrArea']"
      ]
    },
    {
      "cell_type": "code",
      "execution_count": null,
      "id": "f0ff1641",
      "metadata": {
        "execution": {
          "iopub.execute_input": "2022-03-20T07:05:35.971585Z",
          "iopub.status.busy": "2022-03-20T07:05:35.970772Z",
          "iopub.status.idle": "2022-03-20T07:05:35.974314Z",
          "shell.execute_reply": "2022-03-20T07:05:35.973584Z",
          "shell.execute_reply.started": "2022-03-20T06:31:04.45115Z"
        },
        "papermill": {
          "duration": 0.078143,
          "end_time": "2022-03-20T07:05:35.974480",
          "exception": false,
          "start_time": "2022-03-20T07:05:35.896337",
          "status": "completed"
        },
        "tags": [],
        "id": "f0ff1641"
      },
      "outputs": [],
      "source": [
        "#MasVnrArea is the float type\n",
        "df['MasVnrArea'].fillna(np.mean(df['MasVnrArea']), inplace=True)"
      ]
    },
    {
      "cell_type": "code",
      "execution_count": null,
      "id": "1a47c694",
      "metadata": {
        "execution": {
          "iopub.execute_input": "2022-03-20T07:05:36.116453Z",
          "iopub.status.busy": "2022-03-20T07:05:36.115758Z",
          "iopub.status.idle": "2022-03-20T07:05:36.121317Z",
          "shell.execute_reply": "2022-03-20T07:05:36.120786Z",
          "shell.execute_reply.started": "2022-03-20T06:31:04.459714Z"
        },
        "papermill": {
          "duration": 0.07655,
          "end_time": "2022-03-20T07:05:36.121453",
          "exception": false,
          "start_time": "2022-03-20T07:05:36.044903",
          "status": "completed"
        },
        "tags": [],
        "colab": {
          "base_uri": "https://localhost:8080/"
        },
        "id": "1a47c694",
        "outputId": "f1d99cd4-fa7d-447b-ef7a-c7c79893efec"
      },
      "outputs": [
        {
          "output_type": "execute_result",
          "data": {
            "text/plain": [
              "0       NaN\n",
              "1        TA\n",
              "2        TA\n",
              "3        Gd\n",
              "4        TA\n",
              "       ... \n",
              "1454    NaN\n",
              "1455    NaN\n",
              "1456     TA\n",
              "1457    NaN\n",
              "1458     TA\n",
              "Name: FireplaceQu, Length: 2919, dtype: object"
            ]
          },
          "metadata": {},
          "execution_count": 30
        }
      ],
      "source": [
        "df['FireplaceQu']"
      ]
    },
    {
      "cell_type": "code",
      "execution_count": null,
      "id": "d0ea8b29",
      "metadata": {
        "execution": {
          "iopub.execute_input": "2022-03-20T07:05:36.267471Z",
          "iopub.status.busy": "2022-03-20T07:05:36.266651Z",
          "iopub.status.idle": "2022-03-20T07:05:36.270007Z",
          "shell.execute_reply": "2022-03-20T07:05:36.270595Z",
          "shell.execute_reply.started": "2022-03-20T06:31:04.474161Z"
        },
        "papermill": {
          "duration": 0.078368,
          "end_time": "2022-03-20T07:05:36.270776",
          "exception": false,
          "start_time": "2022-03-20T07:05:36.192408",
          "status": "completed"
        },
        "tags": [],
        "id": "d0ea8b29"
      },
      "outputs": [],
      "source": [
        "df['FireplaceQu'].fillna(df['FireplaceQu'].mode()[0], inplace=True)"
      ]
    },
    {
      "cell_type": "code",
      "execution_count": null,
      "id": "b2c920a2",
      "metadata": {
        "papermill": {
          "duration": 0.067639,
          "end_time": "2022-03-20T07:05:36.407848",
          "exception": false,
          "start_time": "2022-03-20T07:05:36.340209",
          "status": "completed"
        },
        "tags": [],
        "id": "b2c920a2"
      },
      "outputs": [],
      "source": [
        ""
      ]
    },
    {
      "cell_type": "code",
      "execution_count": null,
      "id": "9a4fa890",
      "metadata": {
        "execution": {
          "iopub.execute_input": "2022-03-20T07:05:36.549515Z",
          "iopub.status.busy": "2022-03-20T07:05:36.548814Z",
          "iopub.status.idle": "2022-03-20T07:05:36.555296Z",
          "shell.execute_reply": "2022-03-20T07:05:36.555826Z",
          "shell.execute_reply.started": "2022-03-20T06:31:04.488223Z"
        },
        "papermill": {
          "duration": 0.079685,
          "end_time": "2022-03-20T07:05:36.556018",
          "exception": false,
          "start_time": "2022-03-20T07:05:36.476333",
          "status": "completed"
        },
        "tags": [],
        "colab": {
          "base_uri": "https://localhost:8080/"
        },
        "id": "9a4fa890",
        "outputId": "cd1f4ffa-0b7e-4517-bd70-f860caf4a2c2"
      },
      "outputs": [
        {
          "output_type": "stream",
          "name": "stdout",
          "text": [
            "{'MasVnrArea', 'SalePrice'}\n"
          ]
        }
      ],
      "source": [
        "s=set(df.select_dtypes(include=['int64','float64']).columns)\n",
        "ints=s.intersection(set(nan_cols))\n",
        "print(ints)"
      ]
    },
    {
      "cell_type": "code",
      "execution_count": null,
      "id": "69ed535b",
      "metadata": {
        "execution": {
          "iopub.execute_input": "2022-03-20T07:05:36.701675Z",
          "iopub.status.busy": "2022-03-20T07:05:36.701030Z",
          "iopub.status.idle": "2022-03-20T07:05:36.707223Z",
          "shell.execute_reply": "2022-03-20T07:05:36.707725Z",
          "shell.execute_reply.started": "2022-03-20T06:31:04.50306Z"
        },
        "papermill": {
          "duration": 0.08184,
          "end_time": "2022-03-20T07:05:36.707891",
          "exception": false,
          "start_time": "2022-03-20T07:05:36.626051",
          "status": "completed"
        },
        "tags": [],
        "colab": {
          "base_uri": "https://localhost:8080/"
        },
        "id": "69ed535b",
        "outputId": "30f6ace4-f41f-4826-8f2c-37fbaa85c761"
      },
      "outputs": [
        {
          "output_type": "stream",
          "name": "stdout",
          "text": [
            "['Alley', 'Exterior2nd', 'MasVnrType', 'MasVnrArea', 'FireplaceQu', 'GarageCond', 'PoolQC', 'Fence', 'MiscFeature', 'SalePrice']\n"
          ]
        },
        {
          "output_type": "execute_result",
          "data": {
            "text/plain": [
              "['Alley',\n",
              " 'Exterior2nd',\n",
              " 'MasVnrType',\n",
              " 'FireplaceQu',\n",
              " 'GarageCond',\n",
              " 'PoolQC',\n",
              " 'Fence',\n",
              " 'MiscFeature',\n",
              " 'SalePrice']"
            ]
          },
          "metadata": {},
          "execution_count": 33
        }
      ],
      "source": [
        "print(nan_cols)\n",
        "#nan_cols.remove('SalePrice')\n",
        "nan_cols.remove('MasVnrArea')\n",
        "nan_cols"
      ]
    },
    {
      "cell_type": "code",
      "execution_count": null,
      "id": "618160af",
      "metadata": {
        "execution": {
          "iopub.execute_input": "2022-03-20T07:05:36.863313Z",
          "iopub.status.busy": "2022-03-20T07:05:36.862573Z",
          "iopub.status.idle": "2022-03-20T07:05:36.867887Z",
          "shell.execute_reply": "2022-03-20T07:05:36.868442Z",
          "shell.execute_reply.started": "2022-03-20T06:31:04.515569Z"
        },
        "papermill": {
          "duration": 0.091312,
          "end_time": "2022-03-20T07:05:36.868641",
          "exception": false,
          "start_time": "2022-03-20T07:05:36.777329",
          "status": "completed"
        },
        "tags": [],
        "id": "618160af"
      },
      "outputs": [],
      "source": [
        "for i in nan_cols:\n",
        "    df['FireplaceQu'].fillna(df['FireplaceQu'].mode()[0], inplace=True)\n",
        "    "
      ]
    },
    {
      "cell_type": "code",
      "execution_count": null,
      "id": "f861b895",
      "metadata": {
        "execution": {
          "iopub.execute_input": "2022-03-20T07:05:37.026464Z",
          "iopub.status.busy": "2022-03-20T07:05:37.011693Z",
          "iopub.status.idle": "2022-03-20T07:05:37.034597Z",
          "shell.execute_reply": "2022-03-20T07:05:37.035150Z",
          "shell.execute_reply.started": "2022-03-20T06:31:04.538382Z"
        },
        "papermill": {
          "duration": 0.096222,
          "end_time": "2022-03-20T07:05:37.035328",
          "exception": false,
          "start_time": "2022-03-20T07:05:36.939106",
          "status": "completed"
        },
        "tags": [],
        "colab": {
          "base_uri": "https://localhost:8080/"
        },
        "id": "f861b895",
        "outputId": "6603b832-7e02-4f88-f3c9-d53dbe93ceec"
      },
      "outputs": [
        {
          "output_type": "execute_result",
          "data": {
            "text/plain": [
              "Id                  0\n",
              "MSSubClass          0\n",
              "MSZoning            0\n",
              "LotFrontage         0\n",
              "LotArea             0\n",
              "                 ... \n",
              "MoSold              0\n",
              "YrSold              0\n",
              "SaleType            0\n",
              "SaleCondition       0\n",
              "SalePrice        1459\n",
              "Length: 81, dtype: int64"
            ]
          },
          "metadata": {},
          "execution_count": 35
        }
      ],
      "source": [
        "dn=df.isnull().sum()\n",
        "dn"
      ]
    },
    {
      "cell_type": "markdown",
      "id": "27f0dbc2",
      "metadata": {
        "papermill": {
          "duration": 0.070371,
          "end_time": "2022-03-20T07:05:37.175952",
          "exception": false,
          "start_time": "2022-03-20T07:05:37.105581",
          "status": "completed"
        },
        "tags": [],
        "id": "27f0dbc2"
      },
      "source": [
        "#**Except the output variable i preprocess the all attributes\n",
        "So the process pre-process with data analysing is completed\n",
        " Now i need to Model the data**#"
      ]
    },
    {
      "cell_type": "markdown",
      "id": "a6963e56",
      "metadata": {
        "papermill": {
          "duration": 0.071408,
          "end_time": "2022-03-20T07:05:37.318067",
          "exception": false,
          "start_time": "2022-03-20T07:05:37.246659",
          "status": "completed"
        },
        "tags": [],
        "id": "a6963e56"
      },
      "source": [
        "# **MODEL BUILDING**"
      ]
    },
    {
      "cell_type": "code",
      "execution_count": null,
      "id": "9fb048cc",
      "metadata": {
        "execution": {
          "iopub.execute_input": "2022-03-20T07:05:37.464742Z",
          "iopub.status.busy": "2022-03-20T07:05:37.463904Z",
          "iopub.status.idle": "2022-03-20T07:05:37.468990Z",
          "shell.execute_reply": "2022-03-20T07:05:37.468440Z",
          "shell.execute_reply.started": "2022-03-20T06:31:04.566158Z"
        },
        "papermill": {
          "duration": 0.080549,
          "end_time": "2022-03-20T07:05:37.469137",
          "exception": false,
          "start_time": "2022-03-20T07:05:37.388588",
          "status": "completed"
        },
        "tags": [],
        "colab": {
          "base_uri": "https://localhost:8080/"
        },
        "id": "9fb048cc",
        "outputId": "23fe1f81-afec-4982-925a-45af2d233a4f"
      },
      "outputs": [
        {
          "output_type": "execute_result",
          "data": {
            "text/plain": [
              "(2919, 81)"
            ]
          },
          "metadata": {},
          "execution_count": 36
        }
      ],
      "source": [
        "df.shape"
      ]
    },
    {
      "cell_type": "markdown",
      "id": "29a02570",
      "metadata": {
        "papermill": {
          "duration": 0.073573,
          "end_time": "2022-03-20T07:05:37.613879",
          "exception": false,
          "start_time": "2022-03-20T07:05:37.540306",
          "status": "completed"
        },
        "tags": [],
        "id": "29a02570"
      },
      "source": [
        "**Split the entire data into train and test data**\n",
        "**Based on the Training we ned to predict the SalePrice value**"
      ]
    },
    {
      "cell_type": "code",
      "execution_count": null,
      "id": "1d626f49",
      "metadata": {
        "execution": {
          "iopub.execute_input": "2022-03-20T07:05:37.768150Z",
          "iopub.status.busy": "2022-03-20T07:05:37.767230Z",
          "iopub.status.idle": "2022-03-20T07:05:37.768949Z",
          "shell.execute_reply": "2022-03-20T07:05:37.769535Z",
          "shell.execute_reply.started": "2022-03-20T06:31:04.57425Z"
        },
        "papermill": {
          "duration": 0.082734,
          "end_time": "2022-03-20T07:05:37.769711",
          "exception": false,
          "start_time": "2022-03-20T07:05:37.686977",
          "status": "completed"
        },
        "tags": [],
        "id": "1d626f49"
      },
      "outputs": [],
      "source": [
        "df['SalePrice'].fillna(np.mean(df['SalePrice']), inplace=True)"
      ]
    },
    {
      "cell_type": "markdown",
      "id": "5d216f4f",
      "metadata": {
        "papermill": {
          "duration": 0.076569,
          "end_time": "2022-03-20T07:05:37.921460",
          "exception": false,
          "start_time": "2022-03-20T07:05:37.844891",
          "status": "completed"
        },
        "tags": [],
        "id": "5d216f4f"
      },
      "source": [
        "**Required to cahge the catagorical value to Numerical value for the purpose of Regression**"
      ]
    },
    {
      "cell_type": "code",
      "execution_count": null,
      "id": "dbcf7f6b",
      "metadata": {
        "execution": {
          "iopub.execute_input": "2022-03-20T07:05:38.074909Z",
          "iopub.status.busy": "2022-03-20T07:05:38.074171Z",
          "iopub.status.idle": "2022-03-20T07:05:38.084005Z",
          "shell.execute_reply": "2022-03-20T07:05:38.084608Z",
          "shell.execute_reply.started": "2022-03-20T06:31:04.585985Z"
        },
        "papermill": {
          "duration": 0.088771,
          "end_time": "2022-03-20T07:05:38.084801",
          "exception": false,
          "start_time": "2022-03-20T07:05:37.996030",
          "status": "completed"
        },
        "tags": [],
        "colab": {
          "base_uri": "https://localhost:8080/"
        },
        "id": "dbcf7f6b",
        "outputId": "3a5af54e-7b5c-4370-f66a-e6d06486d37b"
      },
      "outputs": [
        {
          "output_type": "execute_result",
          "data": {
            "text/plain": [
              "Index(['MSZoning', 'Street', 'Alley', 'LotShape', 'LandContour', 'Utilities',\n",
              "       'LotConfig', 'LandSlope', 'Neighborhood', 'Condition1', 'Condition2',\n",
              "       'BldgType', 'HouseStyle', 'RoofStyle', 'RoofMatl', 'Exterior1st',\n",
              "       'Exterior2nd', 'MasVnrType', 'ExterQual', 'ExterCond', 'Foundation',\n",
              "       'BsmtQual', 'BsmtCond', 'BsmtExposure', 'BsmtFinType1', 'BsmtFinType2',\n",
              "       'Heating', 'HeatingQC', 'CentralAir', 'Electrical', 'KitchenQual',\n",
              "       'Functional', 'FireplaceQu', 'GarageType', 'GarageFinish', 'GarageQual',\n",
              "       'GarageCond', 'PavedDrive', 'PoolQC', 'Fence', 'MiscFeature',\n",
              "       'SaleType', 'SaleCondition'],\n",
              "      dtype='object')"
            ]
          },
          "metadata": {},
          "execution_count": 38
        }
      ],
      "source": [
        "object_columns = df.select_dtypes(include=['object']).columns\n",
        "object_columns"
      ]
    },
    {
      "cell_type": "code",
      "execution_count": null,
      "id": "345ec456",
      "metadata": {
        "execution": {
          "iopub.execute_input": "2022-03-20T07:05:38.235619Z",
          "iopub.status.busy": "2022-03-20T07:05:38.234786Z",
          "iopub.status.idle": "2022-03-20T07:05:38.699923Z",
          "shell.execute_reply": "2022-03-20T07:05:38.700487Z",
          "shell.execute_reply.started": "2022-03-20T06:31:04.602977Z"
        },
        "papermill": {
          "duration": 0.539489,
          "end_time": "2022-03-20T07:05:38.700663",
          "exception": false,
          "start_time": "2022-03-20T07:05:38.161174",
          "status": "completed"
        },
        "tags": [],
        "id": "345ec456"
      },
      "outputs": [],
      "source": [
        "for i in object_columns:\n",
        "    df = pd.get_dummies(df, columns=[i])"
      ]
    },
    {
      "cell_type": "code",
      "execution_count": null,
      "id": "f8a42bfe",
      "metadata": {
        "execution": {
          "iopub.execute_input": "2022-03-20T07:05:38.833480Z",
          "iopub.status.busy": "2022-03-20T07:05:38.832954Z",
          "iopub.status.idle": "2022-03-20T07:05:38.839021Z",
          "shell.execute_reply": "2022-03-20T07:05:38.839477Z",
          "shell.execute_reply.started": "2022-03-20T06:31:05.069805Z"
        },
        "papermill": {
          "duration": 0.06714,
          "end_time": "2022-03-20T07:05:38.839625",
          "exception": false,
          "start_time": "2022-03-20T07:05:38.772485",
          "status": "completed"
        },
        "tags": [],
        "id": "f8a42bfe"
      },
      "outputs": [],
      "source": [
        "x_train=df[:2000]\n",
        "y_train=df.SalePrice[:2000]\n",
        "x_test=df[2000:]\n",
        "y_test=df.SalePrice[2000:]"
      ]
    },
    {
      "cell_type": "code",
      "execution_count": null,
      "id": "b3f347b3",
      "metadata": {
        "execution": {
          "iopub.execute_input": "2022-03-20T07:05:38.941794Z",
          "iopub.status.busy": "2022-03-20T07:05:38.941151Z",
          "iopub.status.idle": "2022-03-20T07:05:38.945312Z",
          "shell.execute_reply": "2022-03-20T07:05:38.944774Z",
          "shell.execute_reply.started": "2022-03-20T06:31:05.075486Z"
        },
        "papermill": {
          "duration": 0.057894,
          "end_time": "2022-03-20T07:05:38.945432",
          "exception": false,
          "start_time": "2022-03-20T07:05:38.887538",
          "status": "completed"
        },
        "tags": [],
        "colab": {
          "base_uri": "https://localhost:8080/"
        },
        "id": "b3f347b3",
        "outputId": "b6430b26-a125-4b70-cae6-1033b12d2df8"
      },
      "outputs": [
        {
          "output_type": "execute_result",
          "data": {
            "text/plain": [
              "0       208500.00000\n",
              "1       181500.00000\n",
              "2       223500.00000\n",
              "3       140000.00000\n",
              "4       250000.00000\n",
              "            ...     \n",
              "1454    180921.19589\n",
              "1455    180921.19589\n",
              "1456    180921.19589\n",
              "1457    180921.19589\n",
              "1458    180921.19589\n",
              "Name: SalePrice, Length: 2919, dtype: float64"
            ]
          },
          "metadata": {},
          "execution_count": 41
        }
      ],
      "source": [
        "df.SalePrice"
      ]
    },
    {
      "cell_type": "markdown",
      "id": "59f38058",
      "metadata": {
        "papermill": {
          "duration": 0.050279,
          "end_time": "2022-03-20T07:05:39.044100",
          "exception": false,
          "start_time": "2022-03-20T07:05:38.993821",
          "status": "completed"
        },
        "tags": [],
        "id": "59f38058"
      },
      "source": [
        "# Linear Regression"
      ]
    },
    {
      "cell_type": "code",
      "execution_count": null,
      "id": "ba30c9cc",
      "metadata": {
        "execution": {
          "iopub.execute_input": "2022-03-20T07:05:39.146369Z",
          "iopub.status.busy": "2022-03-20T07:05:39.145822Z",
          "iopub.status.idle": "2022-03-20T07:05:40.078125Z",
          "shell.execute_reply": "2022-03-20T07:05:40.078726Z",
          "shell.execute_reply.started": "2022-03-20T06:31:05.092747Z"
        },
        "papermill": {
          "duration": 0.985883,
          "end_time": "2022-03-20T07:05:40.078890",
          "exception": false,
          "start_time": "2022-03-20T07:05:39.093007",
          "status": "completed"
        },
        "tags": [],
        "colab": {
          "base_uri": "https://localhost:8080/"
        },
        "id": "ba30c9cc",
        "outputId": "fe01acfe-ff90-42f0-ce1a-e2a7ec117ba1"
      },
      "outputs": [
        {
          "output_type": "stream",
          "name": "stdout",
          "text": [
            "Mean squared error: 1.225570957523442e-20 %\n"
          ]
        }
      ],
      "source": [
        "from sklearn import*\n",
        "#from sklearn import datasets, linear_model\n",
        "l = linear_model.LinearRegression()\n",
        "l.fit(x_train,y_train)\n",
        "from sklearn.metrics import mean_squared_error, r2_score,make_scorer\n",
        "y_pred = l.predict(x_test)\n",
        "print(f\"Mean squared error: { mean_squared_error(y_test, y_pred)} %\" ,)\n",
        "\n"
      ]
    },
    {
      "cell_type": "markdown",
      "id": "ef767a6a",
      "metadata": {
        "papermill": {
          "duration": 0.047215,
          "end_time": "2022-03-20T07:05:40.235913",
          "exception": false,
          "start_time": "2022-03-20T07:05:40.188698",
          "status": "completed"
        },
        "tags": [],
        "id": "ef767a6a"
      },
      "source": [
        "# **Decision Tree Regression**"
      ]
    },
    {
      "cell_type": "code",
      "execution_count": null,
      "id": "e8a0785f",
      "metadata": {
        "execution": {
          "iopub.execute_input": "2022-03-20T07:05:40.384318Z",
          "iopub.status.busy": "2022-03-20T07:05:40.383432Z",
          "iopub.status.idle": "2022-03-20T07:05:40.463174Z",
          "shell.execute_reply": "2022-03-20T07:05:40.462537Z",
          "shell.execute_reply.started": "2022-03-20T06:32:48.095939Z"
        },
        "papermill": {
          "duration": 0.16581,
          "end_time": "2022-03-20T07:05:40.463342",
          "exception": false,
          "start_time": "2022-03-20T07:05:40.297532",
          "status": "completed"
        },
        "tags": [],
        "colab": {
          "base_uri": "https://localhost:8080/"
        },
        "id": "e8a0785f",
        "outputId": "ed10ea16-8304-4cc4-e51b-bbfae8a7f5ac"
      },
      "outputs": [
        {
          "output_type": "stream",
          "name": "stdout",
          "text": [
            "Mean squared error with decision tree Regressor is : 4.87890977618477e-19 %\n"
          ]
        }
      ],
      "source": [
        "from sklearn.tree import DecisionTreeRegressor\n",
        "dt = DecisionTreeRegressor(random_state=0)\n",
        "dt.fit(x_train, y_train)\n",
        "y_pred = dt.predict(x_test)\n",
        "print(f\"Mean squared error with decision tree Regressor is : { mean_squared_error(y_test, y_pred)} %\" ,)"
      ]
    },
    {
      "cell_type": "markdown",
      "id": "048ebd12",
      "metadata": {
        "papermill": {
          "duration": 0.087468,
          "end_time": "2022-03-20T07:05:40.624162",
          "exception": false,
          "start_time": "2022-03-20T07:05:40.536694",
          "status": "completed"
        },
        "tags": [],
        "id": "048ebd12"
      },
      "source": [
        "# **Random Forest Regressor**"
      ]
    },
    {
      "cell_type": "code",
      "execution_count": null,
      "id": "a65fb74d",
      "metadata": {
        "execution": {
          "iopub.execute_input": "2022-03-20T07:05:40.806384Z",
          "iopub.status.busy": "2022-03-20T07:05:40.805598Z",
          "iopub.status.idle": "2022-03-20T07:06:24.538128Z",
          "shell.execute_reply": "2022-03-20T07:06:24.538547Z",
          "shell.execute_reply.started": "2022-03-20T06:43:34.910787Z"
        },
        "papermill": {
          "duration": 43.830679,
          "end_time": "2022-03-20T07:06:24.538686",
          "exception": false,
          "start_time": "2022-03-20T07:05:40.708007",
          "status": "completed"
        },
        "tags": [],
        "colab": {
          "base_uri": "https://localhost:8080/"
        },
        "id": "a65fb74d",
        "outputId": "c0ddafbd-90cc-41c4-be1d-7a214345321e"
      },
      "outputs": [
        {
          "output_type": "stream",
          "name": "stdout",
          "text": [
            "Mean squared error with Random forest Regressor is : 8.306937594468355 %\n"
          ]
        }
      ],
      "source": [
        "from sklearn.ensemble import RandomForestRegressor\n",
        "rf = RandomForestRegressor(n_estimators = 1000, random_state=51)\n",
        "#test_model(rf_reg)\n",
        "rf.fit(x_train, y_train) \n",
        "y_pred = rf.predict(x_test)\n",
        "print(f\"Mean squared error with Random forest Regressor is : { mean_squared_error(y_test, y_pred)} %\" ,)\n",
        "\n"
      ]
    },
    {
      "cell_type": "markdown",
      "id": "1b0d617e",
      "metadata": {
        "papermill": {
          "duration": 0.046478,
          "end_time": "2022-03-20T07:06:24.632813",
          "exception": false,
          "start_time": "2022-03-20T07:06:24.586335",
          "status": "completed"
        },
        "tags": [],
        "id": "1b0d617e"
      },
      "source": [
        "# **XG Boost**"
      ]
    },
    {
      "cell_type": "code",
      "execution_count": null,
      "id": "769a376d",
      "metadata": {
        "execution": {
          "iopub.execute_input": "2022-03-20T07:06:24.733263Z",
          "iopub.status.busy": "2022-03-20T07:06:24.732708Z",
          "iopub.status.idle": "2022-03-20T07:06:26.273904Z",
          "shell.execute_reply": "2022-03-20T07:06:26.274848Z",
          "shell.execute_reply.started": "2022-03-20T06:50:50.639069Z"
        },
        "papermill": {
          "duration": 1.595107,
          "end_time": "2022-03-20T07:06:26.275047",
          "exception": false,
          "start_time": "2022-03-20T07:06:24.679940",
          "status": "completed"
        },
        "tags": [],
        "colab": {
          "base_uri": "https://localhost:8080/"
        },
        "id": "769a376d",
        "outputId": "2d97680c-4d6d-4007-cf58-88228a0b3296"
      },
      "outputs": [
        {
          "output_type": "stream",
          "name": "stdout",
          "text": [
            "[17:47:42] WARNING: /workspace/src/objective/regression_obj.cu:152: reg:linear is now deprecated in favor of reg:squarederror.\n",
            "Mean squared error with XGBoost Regressor is : 9188.127782972366 %\n"
          ]
        }
      ],
      "source": [
        "import xgboost\n",
        "\n",
        "xgb = xgboost.XGBRegressor()\n",
        "xgb.fit(x_train,y_train)\n",
        "y_pred = xgb.predict(x_test)\n",
        "print(f\"Mean squared error with XGBoost Regressor is : { mean_squared_error(y_test, y_pred)} %\" ,)\n",
        "\n"
      ]
    }
  ],
  "metadata": {
    "kernelspec": {
      "display_name": "Python 3",
      "language": "python",
      "name": "python3"
    },
    "language_info": {
      "codemirror_mode": {
        "name": "ipython",
        "version": 3
      },
      "file_extension": ".py",
      "mimetype": "text/x-python",
      "name": "python",
      "nbconvert_exporter": "python",
      "pygments_lexer": "ipython3",
      "version": "3.7.12"
    },
    "papermill": {
      "default_parameters": {},
      "duration": 71.723983,
      "end_time": "2022-03-20T07:06:27.270945",
      "environment_variables": {},
      "exception": null,
      "input_path": "__notebook__.ipynb",
      "output_path": "__notebook__.ipynb",
      "parameters": {},
      "start_time": "2022-03-20T07:05:15.546962",
      "version": "2.3.3"
    },
    "colab": {
      "name": "house-price-prediction-with-regression .ipynb",
      "provenance": [],
      "include_colab_link": true
    }
  },
  "nbformat": 4,
  "nbformat_minor": 5
}