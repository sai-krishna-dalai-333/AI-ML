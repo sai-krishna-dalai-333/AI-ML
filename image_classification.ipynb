{
  "cells": [
    {
      "cell_type": "markdown",
      "metadata": {
        "id": "view-in-github",
        "colab_type": "text"
      },
      "source": [
        "<a href=\"https://colab.research.google.com/github/sai-krishna-dalai-333/AI-ML/blob/main/image_classification.ipynb\" target=\"_parent\"><img src=\"https://colab.research.google.com/assets/colab-badge.svg\" alt=\"Open In Colab\"/></a>"
      ]
    },
    {
      "cell_type": "markdown",
      "metadata": {
        "id": "sJ0WuB2pJHlN"
      },
      "source": [
        "Image classifiction"
      ]
    },
    {
      "cell_type": "code",
      "execution_count": null,
      "metadata": {
        "id": "qd3XLCnlJGbL"
      },
      "outputs": [],
      "source": [
        "#import all libraries\n",
        "import tensorflow as tf  \n",
        "from tensorflow.keras import datasets, layers, models\n",
        "import matplotlib.pyplot as plt\n",
        "import numpy as np"
      ]
    },
    {
      "cell_type": "code",
      "execution_count": null,
      "metadata": {
        "colab": {
          "base_uri": "https://localhost:8080/"
        },
        "id": "vMdBhgA_Jhao",
        "outputId": "e2debd6e-a0d7-480b-b066-a58125c0102e"
      },
      "outputs": [
        {
          "output_type": "stream",
          "name": "stdout",
          "text": [
            "Downloading data from https://www.cs.toronto.edu/~kriz/cifar-10-python.tar.gz\n",
            "170500096/170498071 [==============================] - 4s 0us/step\n",
            "170508288/170498071 [==============================] - 4s 0us/step\n"
          ]
        }
      ],
      "source": [
        "(X_train, y_train), (X_test,y_test) = datasets.cifar10.load_data()\n",
        " #load_data() function is to load the data and distribute data to train and  to test\n",
        " #cifar10 is the name of the dataset which consists of 10 type of images"
      ]
    },
    {
      "cell_type": "code",
      "execution_count": null,
      "metadata": {
        "colab": {
          "base_uri": "https://localhost:8080/"
        },
        "id": "moAEfCOLKRUt",
        "outputId": "01cf539f-a10a-45e3-8747-b13e68673e6f"
      },
      "outputs": [
        {
          "output_type": "execute_result",
          "data": {
            "text/plain": [
              "(10000, 32, 32, 3)"
            ]
          },
          "metadata": {},
          "execution_count": 3
        }
      ],
      "source": [
        "X_test.shape  #check how much data is alloated for testing"
      ]
    },
    {
      "cell_type": "code",
      "execution_count": null,
      "metadata": {
        "colab": {
          "base_uri": "https://localhost:8080/"
        },
        "id": "dYdAFrDlKnW4",
        "outputId": "a0fcf97d-f036-494a-94ad-bf8da4c1738a"
      },
      "outputs": [
        {
          "output_type": "execute_result",
          "data": {
            "text/plain": [
              "(50000, 1)"
            ]
          },
          "metadata": {},
          "execution_count": 4
        }
      ],
      "source": [
        "y_train.shape #find the all possible dimensions for trin and test  \n"
      ]
    },
    {
      "cell_type": "markdown",
      "metadata": {
        "id": "xQfoSEBOLJku"
      },
      "source": [
        "there are 50000 points with output one unit"
      ]
    },
    {
      "cell_type": "code",
      "execution_count": null,
      "metadata": {
        "colab": {
          "base_uri": "https://localhost:8080/"
        },
        "id": "M8DZcwNmLAar",
        "outputId": "5ffb4057-689c-4e74-e915-a4054fd7e28f"
      },
      "outputs": [
        {
          "output_type": "execute_result",
          "data": {
            "text/plain": [
              "array([[6],\n",
              "       [9],\n",
              "       [9],\n",
              "       [4],\n",
              "       [1]], dtype=uint8)"
            ]
          },
          "metadata": {},
          "execution_count": 5
        }
      ],
      "source": [
        "y_train[:5]"
      ]
    },
    {
      "cell_type": "markdown",
      "metadata": {
        "id": "My45_W69LXZV"
      },
      "source": [
        "it is a 2-D array , mke it as a single dimensional array"
      ]
    },
    {
      "cell_type": "code",
      "execution_count": null,
      "metadata": {
        "colab": {
          "base_uri": "https://localhost:8080/"
        },
        "id": "Nh0KD0IrLgTy",
        "outputId": "8909cb7e-3b26-4c7b-8177-aeed87ec25d5"
      },
      "outputs": [
        {
          "output_type": "execute_result",
          "data": {
            "text/plain": [
              "array([6, 9, 9, 4, 1], dtype=uint8)"
            ]
          },
          "metadata": {},
          "execution_count": 6
        }
      ],
      "source": [
        "y_train = y_train.reshape(-1,) #reshape() method to change the dimension\n",
        "y_train[:5] #check fr frst 5 points"
      ]
    },
    {
      "cell_type": "markdown",
      "metadata": {
        "id": "Tt2pXoXkMKSw"
      },
      "source": [
        "resphpe the test of output also"
      ]
    },
    {
      "cell_type": "code",
      "execution_count": null,
      "metadata": {
        "id": "Ngol6zRTMSM7"
      },
      "outputs": [],
      "source": [
        "y_test = y_test.reshape(-1,)"
      ]
    },
    {
      "cell_type": "code",
      "execution_count": null,
      "metadata": {
        "id": "o9KhoTzMLv-Z"
      },
      "outputs": [],
      "source": [
        "classes = [\"airplane\",\"automobile\",\"bird\",\"cat\",\"deer\",\"dog\",\"frog\",\"horse\",\"ship\",\"truck\"]\n",
        "# make a list of classes which holds the string value of labels "
      ]
    },
    {
      "cell_type": "code",
      "execution_count": null,
      "metadata": {
        "id": "6jMDw8TPMn3R"
      },
      "outputs": [],
      "source": [
        "#plot some images to identify wht type of images\n",
        "def plot_sample(X, y, index):\n",
        "    plt.figure(figsize = (15,2))\n",
        "    plt.imshow(X[index]) #imshow is to visualize the image\n",
        "    plt.xlabel(classes[y[index]])  # label the x-axis with label generted with output(y)"
      ]
    },
    {
      "cell_type": "code",
      "execution_count": null,
      "metadata": {
        "colab": {
          "base_uri": "https://localhost:8080/",
          "height": 173
        },
        "id": "g16D24adNY31",
        "outputId": "7e20d118-0384-44d1-de5d-7a95f3beedd8"
      },
      "outputs": [
        {
          "output_type": "display_data",
          "data": {
            "image/png": "[encoded data removed]",
            "text/plain": [
              "<Figure size 1080x144 with 1 Axes>"
            ]
          },
          "metadata": {
            "needs_background": "light"
          }
        }
      ],
      "source": [
        "plot_sample(X_train, y_train, 3)"
      ]
    },
    {
      "cell_type": "markdown",
      "metadata": {
        "id": "y6Qse_xsNuZi"
      },
      "source": [
        "We are here showing the pixel value of each image by using imshow method.\n",
        "Each pixel have the value between 0 and 255.\n",
        "Now our is to noramalize the each pixel to get value between 0 and 1"
      ]
    },
    {
      "cell_type": "code",
      "execution_count": null,
      "metadata": {
        "id": "_gaxWWHRNqOp"
      },
      "outputs": [],
      "source": [
        "#since the input is pixel normlize the pixel values by dividing it with 255\n",
        "X_train = X_train / 255.0\n",
        "X_test = X_test / 255.0"
      ]
    },
    {
      "cell_type": "markdown",
      "metadata": {
        "id": "fp_-zfBUQezu"
      },
      "source": [
        ""
      ]
    },
    {
      "cell_type": "code",
      "execution_count": null,
      "metadata": {
        "colab": {
          "base_uri": "https://localhost:8080/"
        },
        "id": "O4OkQpi5OZej",
        "outputId": "8b82a78a-6111-4c0f-dcd9-20ce9203033d"
      },
      "outputs": [
        {
          "output_type": "stream",
          "name": "stdout",
          "text": [
            "Epoch 1/5\n",
            "1563/1563 [==============================] - 144s 91ms/step - loss: 1.8136 - accuracy: 0.3532\n",
            "Epoch 2/5\n",
            "1563/1563 [==============================] - 117s 75ms/step - loss: 1.6226 - accuracy: 0.4268\n",
            "Epoch 3/5\n",
            "1563/1563 [==============================] - 105s 67ms/step - loss: 1.5422 - accuracy: 0.4576\n",
            "Epoch 4/5\n",
            "1563/1563 [==============================] - 101s 65ms/step - loss: 1.4815 - accuracy: 0.4796\n",
            "Epoch 5/5\n",
            "1563/1563 [==============================] - 103s 66ms/step - loss: 1.4325 - accuracy: 0.4953\n"
          ]
        },
        {
          "output_type": "execute_result",
          "data": {
            "text/plain": [
              "<keras.callbacks.History at 0x7fdc64a17290>"
            ]
          },
          "metadata": {},
          "execution_count": 12
        }
      ],
      "source": [
        "#Built an ANN\n",
        "ann = models.Sequential([                            #here sequential is the type of model,it is the easiest model\n",
        "        layers.Flatten(input_shape=(32,32,3)),       #Flatten,dense are the type of layers, here it is the ANN with 1 i/p layer (flatten),\n",
        "                                                     #2 hidden layers (dense) and one output layer (dense) which need to classify among 10 types\n",
        "        layers.Dense(3000, activation='relu'),        #3000 is the number of nodes in one perceptron, and activation function 'relu' \n",
        "        layers.Dense(1000, activation='relu'),\n",
        "        layers.Dense(10, activation='softmax')    \n",
        "    ])\n",
        "\n",
        "ann.compile(optimizer='SGD',\n",
        "              loss='sparse_categorical_crossentropy',\n",
        "              metrics=['accuracy'])\n",
        "\n",
        "ann.fit(X_train, y_train, epochs=5)"
      ]
    },
    {
      "cell_type": "markdown",
      "metadata": {
        "id": "29MDV_-WSVOi"
      },
      "source": [
        "You can see that at the end of 5 epochs, accuracy is at around 49%"
      ]
    },
    {
      "cell_type": "code",
      "execution_count": null,
      "metadata": {
        "colab": {
          "base_uri": "https://localhost:8080/"
        },
        "id": "QR1k2cUySNC9",
        "outputId": "11037e2c-529b-4a9c-b659-8b8d56abdf30"
      },
      "outputs": [
        {
          "output_type": "stream",
          "name": "stdout",
          "text": [
            "Classification Report: \n",
            "               precision    recall  f1-score   support\n",
            "\n",
            "           0       0.59      0.43      0.50      1000\n",
            "           1       0.69      0.51      0.59      1000\n",
            "           2       0.38      0.41      0.39      1000\n",
            "           3       0.33      0.38      0.35      1000\n",
            "           4       0.51      0.26      0.35      1000\n",
            "           5       0.37      0.45      0.40      1000\n",
            "           6       0.47      0.67      0.55      1000\n",
            "           7       0.71      0.39      0.50      1000\n",
            "           8       0.45      0.80      0.58      1000\n",
            "           9       0.59      0.51      0.55      1000\n",
            "\n",
            "    accuracy                           0.48     10000\n",
            "   macro avg       0.51      0.48      0.48     10000\n",
            "weighted avg       0.51      0.48      0.48     10000\n",
            "\n"
          ]
        }
      ],
      "source": [
        "from sklearn.metrics import confusion_matrix , classification_report\n",
        "import numpy as np\n",
        "y_pred = ann.predict(X_test)\n",
        "y_pred_classes = [np.argmax(element) for element in y_pred]\n",
        "\n",
        "print(\"Classification Report: \\n\", classification_report(y_test, y_pred_classes))"
      ]
    },
    {
      "cell_type": "markdown",
      "metadata": {
        "id": "M0jc2o6BTZ0s"
      },
      "source": [
        "Built an CNN"
      ]
    },
    {
      "cell_type": "code",
      "execution_count": null,
      "metadata": {
        "colab": {
          "base_uri": "https://localhost:8080/"
        },
        "id": "v9ed0477TYEV",
        "outputId": "0846ffc9-8631-4ae4-d5c3-f03ac2a1c62f"
      },
      "outputs": [
        {
          "output_type": "stream",
          "name": "stdout",
          "text": [
            "Model: \"sequential_1\"\n",
            "_________________________________________________________________\n",
            " Layer (type)                Output Shape              Param #   \n",
            "=================================================================\n",
            " conv2d (Conv2D)             (None, 30, 30, 32)        896       \n",
            "                                                                 \n",
            " max_pooling2d (MaxPooling2D  (None, 15, 15, 32)       0         \n",
            " )                                                               \n",
            "                                                                 \n",
            " conv2d_1 (Conv2D)           (None, 13, 13, 64)        18496     \n",
            "                                                                 \n",
            " max_pooling2d_1 (MaxPooling  (None, 6, 6, 64)         0         \n",
            " 2D)                                                             \n",
            "                                                                 \n",
            " flatten_1 (Flatten)         (None, 2304)              0         \n",
            "                                                                 \n",
            " dense_3 (Dense)             (None, 64)                147520    \n",
            "                                                                 \n",
            " dense_4 (Dense)             (None, 10)                650       \n",
            "                                                                 \n",
            "=================================================================\n",
            "Total params: 167,562\n",
            "Trainable params: 167,562\n",
            "Non-trainable params: 0\n",
            "_________________________________________________________________\n"
          ]
        }
      ],
      "source": [
        "cnn = models.Sequential([\n",
        "    layers.Conv2D(filters=32, kernel_size=(3, 3), activation='relu', input_shape=(32, 32, 3)),\n",
        "    layers.MaxPooling2D((2, 2)),\n",
        "    \n",
        "    layers.Conv2D(filters=64, kernel_size=(3, 3), activation='relu'),\n",
        "    layers.MaxPooling2D((2, 2)),\n",
        "    \n",
        "    layers.Flatten(),\n",
        "    layers.Dense(64, activation='relu'),\n",
        "    layers.Dense(10, activation='softmax')\n",
        "])\n",
        "cnn.summary()"
      ]
    },
    {
      "cell_type": "code",
      "execution_count": null,
      "metadata": {
        "id": "zaIBKRTsUfrP"
      },
      "outputs": [],
      "source": [
        "cnn.compile(optimizer='adam',\n",
        "              loss='sparse_categorical_crossentropy',\n",
        "              metrics=['accuracy'])"
      ]
    },
    {
      "cell_type": "code",
      "execution_count": null,
      "metadata": {
        "id": "vYzWc1rTVF-j",
        "colab": {
          "base_uri": "https://localhost:8080/"
        },
        "outputId": "7d00da56-ba51-4471-cce4-9466f038efa2"
      },
      "outputs": [
        {
          "output_type": "stream",
          "name": "stdout",
          "text": [
            "Epoch 1/10\n",
            "1563/1563 [==============================] - 62s 40ms/step - loss: 1.4942 - accuracy: 0.4610\n",
            "Epoch 2/10\n",
            "1563/1563 [==============================] - 63s 40ms/step - loss: 1.1341 - accuracy: 0.6004\n",
            "Epoch 3/10\n",
            "1563/1563 [==============================] - 62s 39ms/step - loss: 1.0008 - accuracy: 0.6519\n",
            "Epoch 4/10\n",
            "1563/1563 [==============================] - 63s 40ms/step - loss: 0.9241 - accuracy: 0.6791\n",
            "Epoch 5/10\n",
            "1563/1563 [==============================] - 62s 39ms/step - loss: 0.8605 - accuracy: 0.7028\n",
            "Epoch 6/10\n",
            "1563/1563 [==============================] - 62s 40ms/step - loss: 0.8139 - accuracy: 0.7159\n",
            "Epoch 7/10\n",
            "1563/1563 [==============================] - 61s 39ms/step - loss: 0.7701 - accuracy: 0.7328\n",
            "Epoch 8/10\n",
            "1563/1563 [==============================] - 63s 40ms/step - loss: 0.7384 - accuracy: 0.7420\n",
            "Epoch 9/10\n",
            "1563/1563 [==============================] - 61s 39ms/step - loss: 0.7002 - accuracy: 0.7563\n",
            "Epoch 10/10\n",
            "1563/1563 [==============================] - 61s 39ms/step - loss: 0.6702 - accuracy: 0.7667\n"
          ]
        },
        {
          "output_type": "execute_result",
          "data": {
            "text/plain": [
              "<keras.callbacks.History at 0x7fdc61fb8b90>"
            ]
          },
          "metadata": {},
          "execution_count": 16
        }
      ],
      "source": [
        "cnn.fit(X_train, y_train, epochs=10)"
      ]
    },
    {
      "cell_type": "markdown",
      "metadata": {
        "id": "ya5Zr06zuPBb"
      },
      "source": [
        "Gives the accuracy of 70% by CNN."
      ]
    },
    {
      "cell_type": "markdown",
      "metadata": {
        "id": "C44DfTSaudlK"
      },
      "source": [
        "**With CNN, at the end 5 epochs, accuracy was at around 70% which is a significant improvement over ANN. CNN's are best for image classification and gives superb accuracy. Also computation is much less compared to simple ANN as maxpooling reduces the image dimensions while still preserving the**"
      ]
    },
    {
      "cell_type": "code",
      "execution_count": null,
      "metadata": {
        "id": "IHLv_aIFuGWm",
        "colab": {
          "base_uri": "https://localhost:8080/"
        },
        "outputId": "8c67dde3-9a46-4aab-a981-d4910d701517"
      },
      "outputs": [
        {
          "output_type": "stream",
          "name": "stdout",
          "text": [
            "313/313 [==============================] - 4s 13ms/step - loss: 0.8847 - accuracy: 0.7072\n"
          ]
        },
        {
          "output_type": "execute_result",
          "data": {
            "text/plain": [
              "[0.8846508860588074, 0.7071999907493591]"
            ]
          },
          "metadata": {},
          "execution_count": 17
        }
      ],
      "source": [
        "cnn.evaluate(X_test,y_test)"
      ]
    },
    {
      "cell_type": "code",
      "source": [
        "y_pred = cnn.predict(X_test)\n",
        "y_pred[:10]"
      ],
      "metadata": {
        "colab": {
          "base_uri": "https://localhost:8080/"
        },
        "id": "lCscGw7M-H6x",
        "outputId": "45137c38-43a2-4e4f-f616-c2ac8c975489"
      },
      "execution_count": null,
      "outputs": [
        {
          "output_type": "execute_result",
          "data": {
            "text/plain": [
              "array([[5.69388852e-04, 2.12477124e-03, 7.78441178e-03, 3.80603462e-01,\n",
              "        3.56835750e-04, 7.86517933e-03, 9.73998941e-03, 2.47355056e-05,\n",
              "        5.88905096e-01, 2.02614395e-03],\n",
              "       [1.25807058e-03, 2.14303806e-02, 2.87456572e-07, 1.47241286e-08,\n",
              "        3.36862556e-08, 6.35082786e-09, 1.09374518e-08, 3.02250758e-09,\n",
              "        9.77208495e-01, 1.02644837e-04],\n",
              "       [5.52866049e-02, 9.30413902e-02, 5.54128783e-04, 3.44013888e-03,\n",
              "        2.56170111e-04, 1.40539763e-04, 6.89985289e-04, 3.99905839e-04,\n",
              "        8.05491090e-01, 4.07000482e-02],\n",
              "       [9.33756530e-01, 9.07234009e-03, 2.95526031e-02, 5.31990954e-04,\n",
              "        5.15252445e-03, 3.51097624e-05, 9.28129943e-04, 3.99520970e-04,\n",
              "        1.97943095e-02, 7.77058129e-04],\n",
              "       [1.80017241e-06, 6.80669746e-06, 7.93017261e-03, 1.42864054e-02,\n",
              "        7.82809481e-02, 2.46135372e-04, 8.99125874e-01, 9.65032814e-06,\n",
              "        1.08662229e-04, 3.60004765e-06],\n",
              "       [3.56797573e-05, 1.05631325e-05, 1.30059919e-03, 7.29977200e-03,\n",
              "        2.44420464e-03, 3.28137656e-03, 9.82134819e-01, 3.34964157e-03,\n",
              "        1.28995307e-04, 1.43136604e-05],\n",
              "       [1.60343014e-02, 9.75389481e-01, 1.04803048e-05, 1.10213540e-03,\n",
              "        1.01406101e-07, 3.87271488e-04, 4.49649571e-03, 1.33754384e-05,\n",
              "        5.05635307e-06, 2.56123324e-03],\n",
              "       [5.27919224e-03, 4.05939645e-05, 4.40727025e-02, 2.15118267e-02,\n",
              "        2.03375444e-01, 4.19317745e-03, 7.19675362e-01, 1.32596039e-03,\n",
              "        1.82409727e-04, 3.43339838e-04],\n",
              "       [9.89077892e-03, 2.39074689e-05, 2.64434926e-02, 4.67732161e-01,\n",
              "        2.71442264e-01, 1.39576644e-01, 2.64021046e-02, 5.70830144e-02,\n",
              "        8.47260817e-04, 5.58279105e-04],\n",
              "       [7.81339686e-03, 8.63511801e-01, 2.82238994e-04, 2.32302882e-05,\n",
              "        1.18937431e-04, 2.39238052e-05, 8.92657554e-04, 1.38946889e-05,\n",
              "        5.34027175e-04, 1.26785919e-01]], dtype=float32)"
            ]
          },
          "metadata": {},
          "execution_count": 18
        }
      ]
    },
    {
      "cell_type": "code",
      "source": [
        "y_classes = [np.argmax(element) for element in y_pred]\n",
        "y_classes[:10]"
      ],
      "metadata": {
        "colab": {
          "base_uri": "https://localhost:8080/"
        },
        "id": "-DlTMe3o-Mgx",
        "outputId": "edad2255-929e-4432-910d-194698dd7e3f"
      },
      "execution_count": null,
      "outputs": [
        {
          "output_type": "execute_result",
          "data": {
            "text/plain": [
              "[8, 8, 8, 0, 6, 6, 1, 6, 3, 1]"
            ]
          },
          "metadata": {},
          "execution_count": 19
        }
      ]
    },
    {
      "cell_type": "code",
      "source": [
        "y_test[:10]"
      ],
      "metadata": {
        "colab": {
          "base_uri": "https://localhost:8080/"
        },
        "id": "ReCzMREk-YzP",
        "outputId": "06fadc66-ccdb-4e2b-c46f-3d3464d6db28"
      },
      "execution_count": null,
      "outputs": [
        {
          "output_type": "execute_result",
          "data": {
            "text/plain": [
              "array([3, 8, 8, 0, 6, 6, 1, 6, 3, 1], dtype=uint8)"
            ]
          },
          "metadata": {},
          "execution_count": 21
        }
      ]
    }
  ],
  "metadata": {
    "colab": {
      "name": "image_classification.ipynb",
      "provenance": [],
      "authorship_tag": "ABX9TyNzM8VTGZdd9pQRQRrmgv0x",
      "include_colab_link": true
    },
    "kernelspec": {
      "display_name": "Python 3",
      "name": "python3"
    },
    "language_info": {
      "name": "python"
    }
  },
  "nbformat": 4,
  "nbformat_minor": 0
}