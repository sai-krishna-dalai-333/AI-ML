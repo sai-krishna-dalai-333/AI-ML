{
  "nbformat": 4,
  "nbformat_minor": 0,
  "metadata": {
    "colab": {
      "name": "week3_water_jug.ipynb",
      "provenance": [],
      "authorship_tag": "ABX9TyPNEDgvH41ObX2KNUDCRtnw",
      "include_colab_link": true
    },
    "kernelspec": {
      "name": "python3",
      "display_name": "Python 3"
    },
    "language_info": {
      "name": "python"
    }
  },
  "cells": [
    {
      "cell_type": "markdown",
      "metadata": {
        "id": "view-in-github",
        "colab_type": "text"
      },
      "source": [
        "<a href=\"https://colab.research.google.com/github/sai-krishna-dalai-333/AI-ML/blob/main/week3_water_jug.ipynb\" target=\"_parent\"><img src=\"https://colab.research.google.com/assets/colab-badge.svg\" alt=\"Open In Colab\"/></a>"
      ]
    },
    {
      "cell_type": "code",
      "metadata": {
        "id": "OiaR8dkWAseg"
      },
      "source": [
        ""
      ],
      "execution_count": null,
      "outputs": []
    },
    {
      "cell_type": "markdown",
      "metadata": {
        "id": "IeE7mrRlBIMh"
      },
      "source": [
        "Aim:\n",
        "Implement the production system and derive a solution for the realworld AI problem.\n",
        "(Suggested exercise : Write a program to solve the following problem :You have two jugs,a4-gallon and a 3-gallon.Neither of the jugs has markings on them.The reisa\n",
        "pumpthatcanbeusedtofillthejugswithwater.Howcanyougetexactlytwo\n",
        " gallonsofwaterinthe4-gallonjug?)."
      ]
    },
    {
      "cell_type": "code",
      "metadata": {
        "colab": {
          "base_uri": "https://localhost:8080/"
        },
        "id": "C9u7g2MAB052",
        "outputId": "c4d35f38-aea1-49e3-e6b8-7ca7d270adab"
      },
      "source": [
        " #get the input capacity of jug1,jug2 and the desired final state\n",
        "cap1=int(input(\"Enter the capacity of jug1\\n\")) \n",
        "cap2=int(input(\"Enter the capacity of jug2\\n\"))\n",
        "fin=int(input(\"enter the final value of water in the jug\\n\"))\n",
        "#intialize jugs,and a list\n",
        "ju1,ju2=0,0\n",
        "t=[]\n",
        "#our target is to fill the jug1 with desired final input value.\n",
        "#we need to do the process untill ji has desired input value\n",
        "while ju1!=fin:\n",
        "  #conditons while filling the jugs\n",
        "  if ju2==0:        #1st condition :if jug is empty fill entire capacity it with water\n",
        "    ju2=cap2\n",
        "  elif ju2>0 and ju1==cap1: #2nd condition : if the jug2 has some water and jug1 has water with entire capacity then empty jug1\n",
        "    ju1=0\n",
        "  elif ju2>0 and ju1!=cap1:  #3rd condition :if jug1 and jug2 has some water but not eith capacity pour water from jug1 to jug2\n",
        "    while ju2!=0 and ju1!=cap1:\n",
        "      ju1,ju2=ju1+1,ju2-1\n",
        "  t.append([ju1,ju2])\n",
        "print(\"the processes is :\")\n",
        "for i in t:\n",
        "  print(i)\n",
        "     \n",
        "    \n",
        "\n",
        "     \n",
        "    \n"
      ],
      "execution_count": 4,
      "outputs": [
        {
          "output_type": "stream",
          "name": "stdout",
          "text": [
            "Enter the capacity of jug1\n",
            "5\n",
            "Enter the capacity of jug2\n",
            "3\n",
            "enter the final value of water in the jug\n",
            "4\n",
            "the processes is :\n",
            "[0, 3]\n",
            "[3, 0]\n",
            "[3, 3]\n",
            "[5, 1]\n",
            "[0, 1]\n",
            "[1, 0]\n",
            "[1, 3]\n",
            "[4, 0]\n"
          ]
        }
      ]
    },
    {
      "cell_type": "code",
      "metadata": {
        "id": "VSb1nkTCBXIA"
      },
      "source": [
        ""
      ],
      "execution_count": null,
      "outputs": []
    }
  ]
}